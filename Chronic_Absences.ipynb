{
 "cells": [
  {
   "cell_type": "markdown",
   "id": "selective-detector",
   "metadata": {},
   "source": [
    "In this project a local school district was interested in better understanding the data they had about chronic absences amoung students in special education. Analysis and graphs were completed for the items the school district was interested in knowing more about.  "
   ]
  },
  {
   "cell_type": "code",
   "execution_count": 1,
   "id": "organized-commissioner",
   "metadata": {},
   "outputs": [],
   "source": [
    "import pandas as pd\n",
    "import seaborn as sns\n",
    "import matplotlib.pyplot as plt"
   ]
  },
  {
   "cell_type": "code",
   "execution_count": 2,
   "id": "latest-taiwan",
   "metadata": {},
   "outputs": [],
   "source": [
    "df = pd.read_csv(\"Chronic_Absence.csv\")"
   ]
  },
  {
   "cell_type": "code",
   "execution_count": 3,
   "id": "running-bible",
   "metadata": {
    "scrolled": true
   },
   "outputs": [
    {
     "name": "stdout",
     "output_type": "stream",
     "text": [
      "<class 'pandas.core.frame.DataFrame'>\n",
      "RangeIndex: 384 entries, 0 to 383\n",
      "Data columns (total 7 columns):\n",
      " #   Column                                  Non-Null Count  Dtype \n",
      "---  ------                                  --------------  ----- \n",
      " 0   Local Student ID                        384 non-null    int64 \n",
      " 1   Current Grade Level                     384 non-null    object\n",
      " 2   EL?                                     173 non-null    object\n",
      " 3   Gender                                  384 non-null    object\n",
      " 4   Reported Race                           378 non-null    object\n",
      " 5   21-22 Chronic Abs students Days absent  384 non-null    int64 \n",
      " 6   McK-V?                                  38 non-null     object\n",
      "dtypes: int64(2), object(5)\n",
      "memory usage: 21.1+ KB\n"
     ]
    }
   ],
   "source": [
    "df.info()"
   ]
  },
  {
   "cell_type": "markdown",
   "id": "compatible-count",
   "metadata": {},
   "source": [
    "Countplot of Chronic Absences by Grade Level"
   ]
  },
  {
   "cell_type": "code",
   "execution_count": 4,
   "id": "progressive-management",
   "metadata": {},
   "outputs": [
    {
     "data": {
      "image/png": "[encoded data removed]",
      "text/plain": [
       "<Figure size 864x432 with 1 Axes>"
      ]
     },
     "metadata": {
      "needs_background": "light"
     },
     "output_type": "display_data"
    }
   ],
   "source": [
    "#Count plot of grades with chronic absences\n",
    "plt.figure(figsize = (12,6)) \n",
    "c = sns.countplot(data=df, x=\"Current Grade Level\", \n",
    "                  order = [\"TK\",\"K\",\"1\",\"2\",\"3\",\"4\",\"5\",\"6\",\"7\",\"8\",\"9\",\"10\",\n",
    "                                                      \"11\",\"12\"]) \n",
    "c.set_ylabel(\"# of Students\")\n",
    "plt.savefig('b.pdf', dpi=200)"
   ]
  },
  {
   "cell_type": "markdown",
   "id": "nearby-emergency",
   "metadata": {},
   "source": [
    "Average number of chronic absenses by grade level "
   ]
  },
  {
   "cell_type": "code",
   "execution_count": 5,
   "id": "acceptable-biodiversity",
   "metadata": {
    "scrolled": false
   },
   "outputs": [
    {
     "data": {
      "text/html": [
       "<div>\n",
       "<style scoped>\n",
       "    .dataframe tbody tr th:only-of-type {\n",
       "        vertical-align: middle;\n",
       "    }\n",
       "\n",
       "    .dataframe tbody tr th {\n",
       "        vertical-align: top;\n",
       "    }\n",
       "\n",
       "    .dataframe thead th {\n",
       "        text-align: right;\n",
       "    }\n",
       "</style>\n",
       "<table border=\"1\" class=\"dataframe\">\n",
       "  <thead>\n",
       "    <tr style=\"text-align: right;\">\n",
       "      <th></th>\n",
       "      <th>Current Grade Level</th>\n",
       "      <th>Avg. Absences Per Grade Level</th>\n",
       "    </tr>\n",
       "  </thead>\n",
       "  <tbody>\n",
       "    <tr>\n",
       "      <th>0</th>\n",
       "      <td>11</td>\n",
       "      <td>16.416667</td>\n",
       "    </tr>\n",
       "    <tr>\n",
       "      <th>1</th>\n",
       "      <td>9</td>\n",
       "      <td>16.189189</td>\n",
       "    </tr>\n",
       "    <tr>\n",
       "      <th>2</th>\n",
       "      <td>10</td>\n",
       "      <td>15.404762</td>\n",
       "    </tr>\n",
       "    <tr>\n",
       "      <th>3</th>\n",
       "      <td>7</td>\n",
       "      <td>15.344828</td>\n",
       "    </tr>\n",
       "    <tr>\n",
       "      <th>4</th>\n",
       "      <td>TK</td>\n",
       "      <td>15.000000</td>\n",
       "    </tr>\n",
       "    <tr>\n",
       "      <th>5</th>\n",
       "      <td>12</td>\n",
       "      <td>14.714286</td>\n",
       "    </tr>\n",
       "    <tr>\n",
       "      <th>6</th>\n",
       "      <td>1</td>\n",
       "      <td>14.320000</td>\n",
       "    </tr>\n",
       "    <tr>\n",
       "      <th>7</th>\n",
       "      <td>4</td>\n",
       "      <td>14.068966</td>\n",
       "    </tr>\n",
       "    <tr>\n",
       "      <th>8</th>\n",
       "      <td>K</td>\n",
       "      <td>13.960000</td>\n",
       "    </tr>\n",
       "    <tr>\n",
       "      <th>9</th>\n",
       "      <td>5</td>\n",
       "      <td>13.923077</td>\n",
       "    </tr>\n",
       "    <tr>\n",
       "      <th>10</th>\n",
       "      <td>8</td>\n",
       "      <td>13.814815</td>\n",
       "    </tr>\n",
       "    <tr>\n",
       "      <th>11</th>\n",
       "      <td>6</td>\n",
       "      <td>13.484848</td>\n",
       "    </tr>\n",
       "    <tr>\n",
       "      <th>12</th>\n",
       "      <td>2</td>\n",
       "      <td>12.960000</td>\n",
       "    </tr>\n",
       "    <tr>\n",
       "      <th>13</th>\n",
       "      <td>3</td>\n",
       "      <td>12.185185</td>\n",
       "    </tr>\n",
       "  </tbody>\n",
       "</table>\n",
       "</div>"
      ],
      "text/plain": [
       "   Current Grade Level  Avg. Absences Per Grade Level\n",
       "0                   11                      16.416667\n",
       "1                    9                      16.189189\n",
       "2                   10                      15.404762\n",
       "3                    7                      15.344828\n",
       "4                   TK                      15.000000\n",
       "5                   12                      14.714286\n",
       "6                    1                      14.320000\n",
       "7                    4                      14.068966\n",
       "8                    K                      13.960000\n",
       "9                    5                      13.923077\n",
       "10                   8                      13.814815\n",
       "11                   6                      13.484848\n",
       "12                   2                      12.960000\n",
       "13                   3                      12.185185"
      ]
     },
     "execution_count": 5,
     "metadata": {},
     "output_type": "execute_result"
    }
   ],
   "source": [
    "#finds average chronic absence for each grade level and sort highest to lowest\n",
    "df_average_absence = df[\"21-22 Chronic Abs students Days absent\"].groupby(by=df[\"Current Grade Level\"]).mean().sort_values(ascending=False)\n",
    "df_average_absence = pd.DataFrame(df_average_absence).reset_index() #converts to df and resets index\n",
    "#Renames column names\n",
    "df_average_absence.rename(columns={\"21-22 Chronic Abs students Days absent\":\"Avg. Absences Per Grade Level\"},inplace = True)\n",
    "df_average_absence #Average Absences Per Grade Level in Descending order"
   ]
  },
  {
   "cell_type": "markdown",
   "id": "optical-houston",
   "metadata": {},
   "source": [
    "Histrogram of Chronic Absences "
   ]
  },
  {
   "cell_type": "code",
   "execution_count": 6,
   "id": "psychological-cooler",
   "metadata": {},
   "outputs": [
    {
     "data": {
      "text/plain": [
       "<AxesSubplot:xlabel='Absences', ylabel='Count'>"
      ]
     },
     "execution_count": 6,
     "metadata": {},
     "output_type": "execute_result"
    },
    {
     "data": {
      "image/png": "[encoded data removed]",
      "text/plain": [
       "<Figure size 864x432 with 1 Axes>"
      ]
     },
     "metadata": {
      "needs_background": "light"
     },
     "output_type": "display_data"
    }
   ],
   "source": [
    "#Graph provides total chronic abences categories\n",
    "df.rename(columns={\"21-22 Chronic Abs students Days absent\":'Absences'}, inplace = True)\n",
    "plt.figure(figsize=(12,6))\n",
    "sns.histplot(data=df, x=\"Absences\", bins=5, multiple='stack')\n",
    "#plt.savefig(\"h.pdf\", dpi=200)"
   ]
  },
  {
   "cell_type": "markdown",
   "id": "searching-pasta",
   "metadata": {},
   "source": [
    "Chronic Absences by Race "
   ]
  },
  {
   "cell_type": "code",
   "execution_count": 7,
   "id": "600c64ec",
   "metadata": {},
   "outputs": [],
   "source": [
    "#Use function to create uniformity in race values\n",
    "def race(x):\n",
    "    if x == \"Native Hawaiian or Other Pacific Islander\":\n",
    "        return \"Pacific Islander\"\n",
    "    if x == \"Black or African American\":\n",
    "        return \"Black\"\n",
    "    if x == \"American Indian or Alaska Native\":\n",
    "        return \"Native American\"\n",
    "    else:\n",
    "        if x == x:\n",
    "            return x\n",
    "\n",
    "df[\"Reported Race\"] = df[\"Reported Race\"].apply(race)"
   ]
  },
  {
   "cell_type": "code",
   "execution_count": 9,
   "id": "4ae1be9b",
   "metadata": {},
   "outputs": [
    {
     "data": {
      "image/png": "[encoded data removed]",
      "text/plain": [
       "<Figure size 864x432 with 1 Axes>"
      ]
     },
     "metadata": {
      "needs_background": "light"
     },
     "output_type": "display_data"
    }
   ],
   "source": [
    "#Count plot of chronic absences by race \n",
    "plt.figure(figsize=(12,6))\n",
    "plt.xticks(rotation=45)\n",
    "sns.countplot(x=df[\"Reported Race\"])\n",
    "plt.savefig(\"a.pdf\", dpi=200)"
   ]
  },
  {
   "cell_type": "markdown",
   "id": "possible-allah",
   "metadata": {},
   "source": [
    "Chronic Absences by Gender "
   ]
  },
  {
   "cell_type": "code",
   "execution_count": 10,
   "id": "swiss-palace",
   "metadata": {},
   "outputs": [
    {
     "data": {
      "text/html": [
       "<div>\n",
       "<style scoped>\n",
       "    .dataframe tbody tr th:only-of-type {\n",
       "        vertical-align: middle;\n",
       "    }\n",
       "\n",
       "    .dataframe tbody tr th {\n",
       "        vertical-align: top;\n",
       "    }\n",
       "\n",
       "    .dataframe thead th {\n",
       "        text-align: right;\n",
       "    }\n",
       "</style>\n",
       "<table border=\"1\" class=\"dataframe\">\n",
       "  <thead>\n",
       "    <tr style=\"text-align: right;\">\n",
       "      <th></th>\n",
       "      <th># Studnets</th>\n",
       "    </tr>\n",
       "    <tr>\n",
       "      <th>Gender</th>\n",
       "      <th></th>\n",
       "    </tr>\n",
       "  </thead>\n",
       "  <tbody>\n",
       "    <tr>\n",
       "      <th>F</th>\n",
       "      <td>118</td>\n",
       "    </tr>\n",
       "    <tr>\n",
       "      <th>M</th>\n",
       "      <td>265</td>\n",
       "    </tr>\n",
       "  </tbody>\n",
       "</table>\n",
       "</div>"
      ],
      "text/plain": [
       "        # Studnets\n",
       "Gender            \n",
       "F              118\n",
       "M              265"
      ]
     },
     "execution_count": 10,
     "metadata": {},
     "output_type": "execute_result"
    }
   ],
   "source": [
    "gender = df[\"Gender\"].groupby(by=df[\"Gender\"]).count()\n",
    "gender = pd.DataFrame(gender)\n",
    "gender.drop(index=\"N\", inplace = True)\n",
    "gender.rename(columns={\"Gender\":\"# Studnets\"}, inplace = True)\n",
    "gender"
   ]
  },
  {
   "cell_type": "code",
   "execution_count": 11,
   "id": "1d10ca60",
   "metadata": {},
   "outputs": [
    {
     "data": {
      "image/png": "[encoded data removed]",
      "text/plain": [
       "<Figure size 792x432 with 1 Axes>"
      ]
     },
     "metadata": {},
     "output_type": "display_data"
    }
   ],
   "source": [
    "#Pie chart or chronic absenses by gender\n",
    "gender.plot.pie(subplots=True, figsize=(11, 6), autopct='%1.0f%%')\n",
    "plt.savefig('p.pdf', dpi =200)"
   ]
  },
  {
   "cell_type": "code",
   "execution_count": null,
   "id": "worst-ukraine",
   "metadata": {},
   "outputs": [],
   "source": []
  }
 ],
 "metadata": {
  "kernelspec": {
   "display_name": "Python 3",
   "language": "python",
   "name": "python3"
  },
  "language_info": {
   "codemirror_mode": {
    "name": "ipython",
    "version": 3
   },
   "file_extension": ".py",
   "mimetype": "text/x-python",
   "name": "python",
   "nbconvert_exporter": "python",
   "pygments_lexer": "ipython3",
   "version": "3.8.5"
  }
 },
 "nbformat": 4,
 "nbformat_minor": 5
}
