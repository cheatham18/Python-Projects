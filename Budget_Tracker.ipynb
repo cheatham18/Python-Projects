{
 "cells": [
  {
   "cell_type": "markdown",
   "id": "vocational-scenario",
   "metadata": {},
   "source": [
    "This program was written to organize and aggregate company expenses in any given timeperiod. The program reads in the company's transascation log and allows the user to enter a specific department number and date range to see the aggregated expenses. The final output of the program groups the total expenses by personnel, non-personnel, administrative costs and client wages. "
   ]
  },
  {
   "cell_type": "code",
   "execution_count": 1,
   "id": "bc141d17",
   "metadata": {},
   "outputs": [],
   "source": [
    "import pandas as pd"
   ]
  },
  {
   "cell_type": "code",
   "execution_count": 2,
   "id": "1d68b4c6",
   "metadata": {},
   "outputs": [
    {
     "data": {
      "text/html": [
       "<div>\n",
       "<style scoped>\n",
       "    .dataframe tbody tr th:only-of-type {\n",
       "        vertical-align: middle;\n",
       "    }\n",
       "\n",
       "    .dataframe tbody tr th {\n",
       "        vertical-align: top;\n",
       "    }\n",
       "\n",
       "    .dataframe thead th {\n",
       "        text-align: right;\n",
       "    }\n",
       "</style>\n",
       "<table border=\"1\" class=\"dataframe\">\n",
       "  <thead>\n",
       "    <tr style=\"text-align: right;\">\n",
       "      <th></th>\n",
       "      <th>3 Digit Exp</th>\n",
       "      <th>Full GL Coding</th>\n",
       "      <th>Description</th>\n",
       "      <th>Date</th>\n",
       "      <th>Jrnl No.</th>\n",
       "      <th>Orig. Audit Trail</th>\n",
       "      <th>Distribution Reference</th>\n",
       "      <th>Orig. Master Number</th>\n",
       "      <th>Orig. Master Name</th>\n",
       "      <th>Debit</th>\n",
       "      <th>Credit</th>\n",
       "      <th>Net</th>\n",
       "      <th>DEPT-LOC</th>\n",
       "    </tr>\n",
       "  </thead>\n",
       "  <tbody>\n",
       "    <tr>\n",
       "      <th>0</th>\n",
       "      <td>377</td>\n",
       "      <td>01-377-5692-100</td>\n",
       "      <td>Department of Rehabilitation - Monterey County</td>\n",
       "      <td>07/29/21</td>\n",
       "      <td>185,599</td>\n",
       "      <td>RMSLS00002419</td>\n",
       "      <td>WDS21065-01A DOR</td>\n",
       "      <td>WDS21065-01A</td>\n",
       "      <td>State of California</td>\n",
       "      <td>NaN</td>\n",
       "      <td>2,016.00</td>\n",
       "      <td>(2,016.00)</td>\n",
       "      <td>5692-100</td>\n",
       "    </tr>\n",
       "    <tr>\n",
       "      <th>1</th>\n",
       "      <td>377</td>\n",
       "      <td>01-377-5692-500</td>\n",
       "      <td>Department of Rehabilitation - SLO County</td>\n",
       "      <td>07/31/21</td>\n",
       "      <td>185,600</td>\n",
       "      <td>RMSLS00002419</td>\n",
       "      <td>WDS21075-01A</td>\n",
       "      <td>WDS21075-01A</td>\n",
       "      <td>State of California</td>\n",
       "      <td>NaN</td>\n",
       "      <td>2,245.63</td>\n",
       "      <td>(2,245.63)</td>\n",
       "      <td>5692-500</td>\n",
       "    </tr>\n",
       "    <tr>\n",
       "      <th>2</th>\n",
       "      <td>385</td>\n",
       "      <td>01-385-5696-000</td>\n",
       "      <td>W.I.A. Revenue - Santa Cruz County</td>\n",
       "      <td>07/01/21</td>\n",
       "      <td>184,848</td>\n",
       "      <td>GLREV00021384</td>\n",
       "      <td>REV ACCRUAL FOR 403B TRUE UP</td>\n",
       "      <td>NaN</td>\n",
       "      <td>NaN</td>\n",
       "      <td>736.70</td>\n",
       "      <td>NaN</td>\n",
       "      <td>736.70</td>\n",
       "      <td>5696-000</td>\n",
       "    </tr>\n",
       "    <tr>\n",
       "      <th>3</th>\n",
       "      <td>385</td>\n",
       "      <td>01-385-5696-000</td>\n",
       "      <td>W.I.A. Revenue - Santa Cruz County</td>\n",
       "      <td>07/31/21</td>\n",
       "      <td>185,598</td>\n",
       "      <td>GLTRX00021491</td>\n",
       "      <td>SC AJCC - XXX</td>\n",
       "      <td>NaN</td>\n",
       "      <td>NaN</td>\n",
       "      <td>NaN</td>\n",
       "      <td>44,996.54</td>\n",
       "      <td>(44,996.54)</td>\n",
       "      <td>5696-000</td>\n",
       "    </tr>\n",
       "    <tr>\n",
       "      <th>4</th>\n",
       "      <td>385</td>\n",
       "      <td>01-385-5696-009</td>\n",
       "      <td>W.I.A. Revenue - OJT SC County</td>\n",
       "      <td>07/01/21</td>\n",
       "      <td>185,147</td>\n",
       "      <td>RMSLS00002410</td>\n",
       "      <td>WDS21016-01C DM OJT Patt</td>\n",
       "      <td>WDS21016-01C DM</td>\n",
       "      <td>Santa Cruz County</td>\n",
       "      <td>NaN</td>\n",
       "      <td>30.00</td>\n",
       "      <td>(30.00)</td>\n",
       "      <td>5696-009</td>\n",
       "    </tr>\n",
       "  </tbody>\n",
       "</table>\n",
       "</div>"
      ],
      "text/plain": [
       "   3 Digit Exp   Full GL Coding  \\\n",
       "0          377  01-377-5692-100   \n",
       "1          377  01-377-5692-500   \n",
       "2          385  01-385-5696-000   \n",
       "3          385  01-385-5696-000   \n",
       "4          385  01-385-5696-009   \n",
       "\n",
       "                                      Description      Date Jrnl No.  \\\n",
       "0  Department of Rehabilitation - Monterey County  07/29/21  185,599   \n",
       "1       Department of Rehabilitation - SLO County  07/31/21  185,600   \n",
       "2              W.I.A. Revenue - Santa Cruz County  07/01/21  184,848   \n",
       "3              W.I.A. Revenue - Santa Cruz County  07/31/21  185,598   \n",
       "4                  W.I.A. Revenue - OJT SC County  07/01/21  185,147   \n",
       "\n",
       "  Orig. Audit Trail        Distribution Reference Orig. Master Number  \\\n",
       "0     RMSLS00002419              WDS21065-01A DOR        WDS21065-01A   \n",
       "1     RMSLS00002419                  WDS21075-01A        WDS21075-01A   \n",
       "2     GLREV00021384  REV ACCRUAL FOR 403B TRUE UP                 NaN   \n",
       "3     GLTRX00021491                 SC AJCC - XXX                 NaN   \n",
       "4     RMSLS00002410      WDS21016-01C DM OJT Patt     WDS21016-01C DM   \n",
       "\n",
       "     Orig. Master Name    Debit       Credit           Net   DEPT-LOC  \n",
       "0  State of California       NaN    2,016.00     (2,016.00)  5692-100  \n",
       "1  State of California       NaN    2,245.63     (2,245.63)  5692-500  \n",
       "2                  NaN   736.70           NaN       736.70   5696-000  \n",
       "3                  NaN       NaN   44,996.54    (44,996.54)  5696-000  \n",
       "4    Santa Cruz County       NaN       30.00        (30.00)  5696-009  "
      ]
     },
     "execution_count": 2,
     "metadata": {},
     "output_type": "execute_result"
    }
   ],
   "source": [
    "df = pd.read_csv(\"transactions_july.csv\") #Read in the transaction register. \n",
    "df.head()"
   ]
  },
  {
   "cell_type": "markdown",
   "id": "automated-forth",
   "metadata": {},
   "source": [
    "Clean & Organize Data"
   ]
  },
  {
   "cell_type": "code",
   "execution_count": 3,
   "id": "vital-arena",
   "metadata": {},
   "outputs": [
    {
     "name": "stdout",
     "output_type": "stream",
     "text": [
      "<class 'pandas.core.frame.DataFrame'>\n",
      "RangeIndex: 1025 entries, 0 to 1024\n",
      "Data columns (total 13 columns):\n",
      " #   Column                  Non-Null Count  Dtype \n",
      "---  ------                  --------------  ----- \n",
      " 0   3 Digit Exp             1025 non-null   int64 \n",
      " 1   Full GL Coding          1025 non-null   object\n",
      " 2   Description             1025 non-null   object\n",
      " 3   Date                    1025 non-null   object\n",
      " 4   Jrnl No.                1025 non-null   object\n",
      " 5   Orig. Audit Trail       1025 non-null   object\n",
      " 6   Distribution Reference  1025 non-null   object\n",
      " 7   Orig. Master Number     128 non-null    object\n",
      " 8   Orig. Master Name       128 non-null    object\n",
      " 9    Debit                  795 non-null    object\n",
      " 10   Credit                 230 non-null    object\n",
      " 11   Net                    1025 non-null   object\n",
      " 12  DEPT-LOC                1025 non-null   object\n",
      "dtypes: int64(1), object(12)\n",
      "memory usage: 104.2+ KB\n"
     ]
    }
   ],
   "source": [
    "df.info()"
   ]
  },
  {
   "cell_type": "code",
   "execution_count": 4,
   "id": "f538a637",
   "metadata": {},
   "outputs": [],
   "source": [
    "df.dropna(subset=[\" Net \"], inplace = True) #Drop nulls in df[Net] field"
   ]
  },
  {
   "cell_type": "code",
   "execution_count": 5,
   "id": "a5b96a02",
   "metadata": {},
   "outputs": [],
   "source": [
    "df.rename(columns={\" Net \": \"Net\"}, inplace=True) #eliminated spaces in \"Net\" field title"
   ]
  },
  {
   "cell_type": "code",
   "execution_count": 6,
   "id": "ebfb459d",
   "metadata": {},
   "outputs": [
    {
     "name": "stderr",
     "output_type": "stream",
     "text": [
      "<ipython-input-6-79b7345ab158>:1: FutureWarning: The default value of regex will change from True to False in a future version. In addition, single character regular expressions will*not* be treated as literal strings when regex=True.\n",
      "  df[\"Net\"] = df[\"Net\"].str.replace(\")\",\"\") #remove ) from end of number\n"
     ]
    }
   ],
   "source": [
    "df[\"Net\"] = df[\"Net\"].str.replace(\")\",\"\") # remove ) from end of number"
   ]
  },
  {
   "cell_type": "code",
   "execution_count": 7,
   "id": "2f7e4b85",
   "metadata": {},
   "outputs": [
    {
     "name": "stderr",
     "output_type": "stream",
     "text": [
      "<ipython-input-7-dd0c50e64398>:1: FutureWarning: The default value of regex will change from True to False in a future version. In addition, single character regular expressions will*not* be treated as literal strings when regex=True.\n",
      "  df[\"Net\"] = df[\"Net\"].str.replace(\"(\",\"-\") #replace ( with minus sign to indicate negative number\n"
     ]
    }
   ],
   "source": [
    "df[\"Net\"] = df[\"Net\"].str.replace(\"(\",\"-\") #replaced ( with minus sign to indicate negative number"
   ]
  },
  {
   "cell_type": "code",
   "execution_count": 8,
   "id": "361bb34a",
   "metadata": {},
   "outputs": [],
   "source": [
    "df[\"Net\"] = df[\"Net\"].str.replace(\",\",\"\") #remove comma from numbers  "
   ]
  },
  {
   "cell_type": "code",
   "execution_count": 9,
   "id": "7437cdbb",
   "metadata": {},
   "outputs": [],
   "source": [
    "df[\"Net\"] = df[\"Net\"].str.replace(\" - \",\"0\") #replace \"-\" with zeros"
   ]
  },
  {
   "cell_type": "code",
   "execution_count": 10,
   "id": "dc69ddc8",
   "metadata": {},
   "outputs": [],
   "source": [
    "df[\"Net\"] = pd.to_numeric(df[\"Net\"]) #converted \"Net\" into numeric datatype  "
   ]
  },
  {
   "cell_type": "code",
   "execution_count": 11,
   "id": "ce95a204",
   "metadata": {},
   "outputs": [
    {
     "data": {
      "text/plain": [
       "0       07/29/21\n",
       "1       07/31/21\n",
       "2       07/01/21\n",
       "3       07/31/21\n",
       "4       07/01/21\n",
       "          ...   \n",
       "1020    07/31/21\n",
       "1021    07/31/21\n",
       "1022    07/01/21\n",
       "1023    07/01/21\n",
       "1024    07/31/21\n",
       "Name: Date, Length: 1025, dtype: object"
      ]
     },
     "execution_count": 11,
     "metadata": {},
     "output_type": "execute_result"
    }
   ],
   "source": [
    "df[\"Date\"].str.strip() #elimanated posssible extra spaces in date field"
   ]
  },
  {
   "cell_type": "code",
   "execution_count": 12,
   "id": "cccd8ddb",
   "metadata": {},
   "outputs": [],
   "source": [
    "df.dropna(subset = [\"Full GL Coding\"], inplace = True) #removing all nulls in \"Full GL Coding\" field"
   ]
  },
  {
   "cell_type": "code",
   "execution_count": 13,
   "id": "15189804",
   "metadata": {},
   "outputs": [],
   "source": [
    "df[\"Date\"] = pd.to_datetime(df[\"Date\"]) #converted \"Date\" field into datetime datatype"
   ]
  },
  {
   "cell_type": "markdown",
   "id": "interesting-basketball",
   "metadata": {},
   "source": [
    "Filtering and Organizing Data "
   ]
  },
  {
   "cell_type": "code",
   "execution_count": 14,
   "id": "starting-sheffield",
   "metadata": {},
   "outputs": [
    {
     "name": "stdout",
     "output_type": "stream",
     "text": [
      "Enter Start Date: 07/01/2021\n",
      "Enter End Date: 07/31/2021\n",
      "Enter Department Code: 5657-100\n"
     ]
    }
   ],
   "source": [
    "start_date = pd.to_datetime(input(\"Enter Start Date: \")) #The start date of the range that will be analyzed\n",
    "end_date = pd.to_datetime(input(\"Enter End Date: \")) #The end date of the range that will be analyzed\n",
    "dept_code = input(\"Enter Department Code: \") #The company department number"
   ]
  },
  {
   "cell_type": "code",
   "execution_count": 15,
   "id": "cbec1287",
   "metadata": {},
   "outputs": [],
   "source": [
    "df_filtered = df[df[\"Date\"].between(start_date, end_date)] #Filtered rows for records in specified date range.\n",
    "df_filtered = df_filtered[df_filtered[\"Full GL Coding\"].str.contains(dept_code)] #Filtered for rows with specified department number\n",
    "\n",
    "df_filtered = df_filtered[[\"3 Digit Exp\", \"Net\"]] #Select expense codes and Expense Amount fields\n",
    "df_final = df_filtered[\"Net\"].groupby(df_filtered['3 Digit Exp']).sum() #Aggregated sum of expenses for each expense code\n",
    "#df_final is now a series with expense codes acting as index and total expenses for each"
   ]
  },
  {
   "cell_type": "markdown",
   "id": "characteristic-annual",
   "metadata": {},
   "source": [
    "Sum total expenses by client wages, personnel(S&B), non-personnel, and administrative  "
   ]
  },
  {
   "cell_type": "code",
   "execution_count": 16,
   "id": "0e7dcadf",
   "metadata": {},
   "outputs": [
    {
     "name": "stdout",
     "output_type": "stream",
     "text": [
      "Client Wages(WC & FICA):  28096.565112\n",
      "S&B:  41779.024888\n",
      "Non-Personnel:  5759.3099999999995\n",
      "Admin:  4966.25\n"
     ]
    }
   ],
   "source": [
    "if 711 in df_final.index: #checking if 711 (code for client wages) is present\n",
    "    print (\"Client Wages(WC & FICA): \", df_final.loc[711:721].sum()*1.1682) #Prints sum of total client wages together and labor burden of 16.82%\n",
    "else: \n",
    "    print (\"No Client Wages\")\n",
    "\n",
    "#Below sums all expense codes associated with salaries and benefits and eliminates client expenses\n",
    "print (\"S&B: \", (df_final.loc[722:758].sum()) - ((df_final.loc[711:721].sum()*1.1682)-(df_final.loc[711:721].sum())))\n",
    "\n",
    "print (\"Non-Personnel: \", df_final.loc[760:912].sum()) #Prints the sum all non-personnel expenses\n",
    "print (\"Admin: \", df_final.loc[949:951].sum()) #Prints the sum all administrative expenses\n",
    "\n",
    "#Provides total Revenue, Rental Income and Total Income if the department code of 5672-000 is being analyzed\n",
    "if dept_code == \"5672-000\":\n",
    "    print(\"JSW Contract Revenue: \", df_final.loc[450], \"Rental Income: \", df_final.loc[589], \"Total Income: \", df_final.loc[450] + df_final.loc[589])\n",
    "    "
   ]
  },
  {
   "cell_type": "code",
   "execution_count": null,
   "id": "d65e7e62",
   "metadata": {},
   "outputs": [],
   "source": []
  },
  {
   "cell_type": "code",
   "execution_count": null,
   "id": "f91ac3de",
   "metadata": {},
   "outputs": [],
   "source": []
  }
 ],
 "metadata": {
  "celltoolbar": "Raw Cell Format",
  "kernelspec": {
   "display_name": "Python 3",
   "language": "python",
   "name": "python3"
  },
  "language_info": {
   "codemirror_mode": {
    "name": "ipython",
    "version": 3
   },
   "file_extension": ".py",
   "mimetype": "text/x-python",
   "name": "python",
   "nbconvert_exporter": "python",
   "pygments_lexer": "ipython3",
   "version": "3.8.5"
  }
 },
 "nbformat": 4,
 "nbformat_minor": 5
}
