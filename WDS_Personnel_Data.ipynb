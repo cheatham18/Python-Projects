{
 "cells": [
  {
   "cell_type": "markdown",
   "id": "adapted-dollar",
   "metadata": {},
   "source": [
    "This program was built to clean, organize, aggregate and summarize Goodwill Central Coast Department of Workfoce program outcomes within a choosen date range.  "
   ]
  },
  {
   "cell_type": "code",
   "execution_count": 1,
   "id": "handmade-charge",
   "metadata": {},
   "outputs": [],
   "source": [
    "import pandas as pd"
   ]
  },
  {
   "cell_type": "code",
   "execution_count": 2,
   "id": "sexual-pennsylvania",
   "metadata": {},
   "outputs": [],
   "source": [
    "df = pd.read_csv(\"Program_Enrollment.csv\")"
   ]
  },
  {
   "cell_type": "markdown",
   "id": "hydraulic-hawaii",
   "metadata": {},
   "source": [
    "Cleaning and converting data to proper data types"
   ]
  },
  {
   "cell_type": "code",
   "execution_count": 3,
   "id": "marked-alias",
   "metadata": {
    "scrolled": true
   },
   "outputs": [
    {
     "name": "stderr",
     "output_type": "stream",
     "text": [
      "<ipython-input-3-da8ca2a98a23>:1: FutureWarning: The default value of regex will change from True to False in a future version. In addition, single character regular expressions will*not* be treated as literal strings when regex=True.\n",
      "  df[\"wage\"] = df[\"wage\"].str.replace(\"$\",'').str.strip()\n"
     ]
    }
   ],
   "source": [
    "df[\"wage\"] = df[\"wage\"].str.replace(\"$\",'').str.strip()\n",
    "df[\"wage\"] = pd.to_numeric(df[\"wage\"])"
   ]
  },
  {
   "cell_type": "code",
   "execution_count": 4,
   "id": "adequate-secretary",
   "metadata": {},
   "outputs": [],
   "source": [
    "df[\"start_date\"] = pd.to_datetime(df[\"start_date\"])\n",
    "df[\"date_of_hire\"] = df[\"date_of_hire\"].str.strip()\n",
    "df[\"date_of_hire\"] = pd.to_datetime(df[\"date_of_hire\"])\n",
    "df[\"actual_close_date\"] = pd.to_datetime(df[\"actual_close_date\"])"
   ]
  },
  {
   "cell_type": "markdown",
   "id": "human-reading",
   "metadata": {},
   "source": [
    "Date Range Filters"
   ]
  },
  {
   "cell_type": "code",
   "execution_count": 5,
   "id": "refined-pharmacy",
   "metadata": {
    "scrolled": false
   },
   "outputs": [
    {
     "name": "stdout",
     "output_type": "stream",
     "text": [
      "Enter start date ('YYYY-MM-DD'): 2021-07-01\n",
      "Enter end date ('YYYY-MM-DD'): 2021-12-31\n"
     ]
    }
   ],
   "source": [
    "start = input(\"Enter start date ('YYYY-MM-DD'): \") \n",
    "end = input(\"Enter end date ('YYYY-MM-DD'): \")  "
   ]
  },
  {
   "cell_type": "markdown",
   "id": "covered-premises",
   "metadata": {},
   "source": [
    "Program Enrollments"
   ]
  },
  {
   "cell_type": "code",
   "execution_count": 6,
   "id": "third-salmon",
   "metadata": {},
   "outputs": [
    {
     "data": {
      "text/plain": [
       "department_number\n",
       "Cabrillo - 5711-000             2\n",
       "Community Serv                  6\n",
       "DOR_Monterey_Employment         1\n",
       "DOR_SC_Employment               2\n",
       "JSW -5672-000                   1\n",
       "Kickstart                       8\n",
       "LO                              1\n",
       "MCOE                            2\n",
       "Monterey DOR SIT - 5692-100     2\n",
       "Monterey OWP - 5657-100        56\n",
       "Prop 47 Behav Health           16\n",
       "SC OWP - 5657-000               3\n",
       "SC TEMP - 5657-000              3\n",
       "SLO DOR WEX - 5692-500         12\n",
       "Workability (MC)                3\n",
       "Workability (SC)               28\n",
       "Name: start_date, dtype: int64"
      ]
     },
     "execution_count": 6,
     "metadata": {},
     "output_type": "execute_result"
    }
   ],
   "source": [
    "#Filters out clients in database who did not start program and ensures individuals with start date but not enrollment status are counted\n",
    "enrollments = df[(df[\"start_date\"].between(start,end)) & ((df[\"enrollment_status\"].str.contains(\"No Show\")==False) \n",
    "                 | (df[\"enrollment_status\"].isnull()))] #All start dates in specified date range \n",
    "final_enrollments = enrollments[\"start_date\"].groupby(by=enrollments['department_number']).count() #groups by dept. and counts\n",
    "final_enrollments"
   ]
  },
  {
   "cell_type": "markdown",
   "id": "proof-worth",
   "metadata": {},
   "source": [
    "Duplication Filter For Enrollments and Job Placements"
   ]
  },
  {
   "cell_type": "code",
   "execution_count": 7,
   "id": "elder-tattoo",
   "metadata": {},
   "outputs": [
    {
     "name": "stdout",
     "output_type": "stream",
     "text": [
      "Enrollment Duplication\n",
      "      wds_id start_date        department_number\n",
      "2387  3941.0 2021-10-19   SLO DOR WEX - 5692-500\n",
      "2388  3941.0 2021-12-23                       LO\n",
      "2757  4149.0 2021-07-07   SLO DOR WEX - 5692-500\n",
      "2758  4149.0 2021-08-13   SLO DOR WEX - 5692-500\n",
      "2759  4149.0 2021-10-31   SLO DOR WEX - 5692-500\n",
      "2777  4167.0 2021-07-06  Monterey OWP - 5657-100\n",
      "2778  4167.0 2021-10-05  Monterey OWP - 5657-100\n",
      "2781  4170.0 2021-08-13   SLO DOR WEX - 5692-500\n",
      "2782  4170.0 2021-12-03   SLO DOR WEX - 5692-500\n",
      "2802  4187.0 2021-08-12        SC OWP - 5657-000\n",
      "2803  4187.0 2021-08-26        SC OWP - 5657-000\n",
      "####################################\n",
      "Job Placement Duplication\n",
      "Empty DataFrame\n",
      "Columns: [wds_id, date_of_hire, department_number]\n",
      "Index: []\n"
     ]
    }
   ],
   "source": [
    "#Enrollment Duplication. This segment provides information on duplicated data in the system \n",
    "#as some clients may be participating in multiple programs at once. \n",
    "e_duplicated = df[(df[\"start_date\"].between(start,end)) & ((df[\"enrollment_status\"].str.contains(\"No Show\")==False))] #Enrollment Filter\n",
    "e_duplicated = e_duplicated[e_duplicated.duplicated(subset = ['wds_id'], keep=False)] #finds duplicates\n",
    "print(\"Enrollment Duplication\")\n",
    "print(e_duplicated[[\"wds_id\", \"start_date\", \"department_number\"]])\n",
    "print(\"####################################\")\n",
    "\n",
    "#Job Placement Duplication \n",
    "job_duplicated = df[df[\"date_of_hire\"].between(start,end)] #finds duplicates in the Job Placement Information\n",
    "job_duplicated = job_duplicated[job_duplicated.duplicated(subset = ['wds_id'], keep=False)]\n",
    "print(\"Job Placement Duplication\")\n",
    "print(job_duplicated[[\"wds_id\", \"date_of_hire\", \"department_number\"]])\n"
   ]
  },
  {
   "cell_type": "markdown",
   "id": "passing-tomato",
   "metadata": {},
   "source": [
    "Job Placement Data, External, Internal Placements "
   ]
  },
  {
   "cell_type": "code",
   "execution_count": 8,
   "id": "organized-elephant",
   "metadata": {},
   "outputs": [
    {
     "data": {
      "text/plain": [
       "department_number\n",
       "Monterey OWP - 5657-100    11\n",
       "SC TEMP - 5657-000          1\n",
       "Name: External_Placements, dtype: int64"
      ]
     },
     "execution_count": 8,
     "metadata": {},
     "output_type": "execute_result"
    }
   ],
   "source": [
    "#Internal Job Placement Outcomes\n",
    "internal = df[df[\"date_of_hire\"].between(start,end)]\n",
    "internal = internal[internal[\"employer\"].str.contains(\"Goodwill\", na = False, case = False)] #Searches for values that contain \"Goodwill\" in values \n",
    "internal_final = internal[\"employer\"].groupby(by=internal[\"department_number\"]).count() #Counts number of internal job placemetns by Department number\n",
    "internal_final.rename(\"Internal_Placements\", inplace = True) #Rename title\n",
    "\n",
    "#External Job Placement Outcomes\n",
    "external = df[df[\"date_of_hire\"].between(start,end)] #filters all date_of_hire values for those in specified date range\n",
    "external = external[external[\"employer\"].str.contains(\"Goodwill\", case=False)==False] #Searches for any value without Goodwill in it\n",
    "external_final = external[\"employer\"].groupby(by=external[\"department_number\"], dropna=True).count() #Counts number of external job placemetns by Department number\n",
    "external_final.rename(\"External_Placements\", inplace = True) #Rename\n",
    "external_final"
   ]
  },
  {
   "cell_type": "markdown",
   "id": "instructional-scale",
   "metadata": {},
   "source": [
    "Average Wage Data & Hours "
   ]
  },
  {
   "cell_type": "code",
   "execution_count": 9,
   "id": "precious-satin",
   "metadata": {},
   "outputs": [],
   "source": [
    "Avg_Hours_Final = df[df[\"date_of_hire\"].between(start,end)] #filters all date_of_hire values for those in specified date range\n",
    "Avg_Hours_Final = Avg_Hours_Final[[\"wage\", \"department_number\", \"hours_per_week\"]]\n",
    "Avg_Hours_Final = Avg_Hours_Final.groupby(by=Avg_Hours_Final[\"department_number\"]).mean() #Takes average hours and groups by dept\n",
    "#Avg_Hours_Final.rename(\"Average Wage and Hours by Department\", inplace = True)"
   ]
  },
  {
   "cell_type": "markdown",
   "id": "preceding-validation",
   "metadata": {},
   "source": [
    "Final Results "
   ]
  },
  {
   "cell_type": "code",
   "execution_count": 10,
   "id": "advanced-setting",
   "metadata": {},
   "outputs": [
    {
     "name": "stdout",
     "output_type": "stream",
     "text": [
      "2021-07-01 - 2021-12-31\n",
      "ENROLLMENTS\n",
      "department_number\n",
      "Cabrillo - 5711-000             2\n",
      "Community Serv                  6\n",
      "DOR_Monterey_Employment         1\n",
      "DOR_SC_Employment               2\n",
      "JSW -5672-000                   1\n",
      "Kickstart                       8\n",
      "LO                              1\n",
      "MCOE                            2\n",
      "Monterey DOR SIT - 5692-100     2\n",
      "Monterey OWP - 5657-100        56\n",
      "Prop 47 Behav Health           16\n",
      "SC OWP - 5657-000               3\n",
      "SC TEMP - 5657-000              3\n",
      "SLO DOR WEX - 5692-500         12\n",
      "Workability (MC)                3\n",
      "Workability (SC)               28\n",
      "Name: start_date, dtype: int64\n",
      "*************************\n",
      "INTERNAL PLACEMENTS\n",
      "department_number\n",
      "Kickstart                  1\n",
      "Monterey OWP - 5657-100    2\n",
      "Name: Internal_Placements, dtype: int64\n",
      "*************************\n",
      "EXTERNAL PLACEMENTS\n",
      "department_number\n",
      "Monterey OWP - 5657-100    11\n",
      "SC TEMP - 5657-000          1\n",
      "Name: External_Placements, dtype: int64\n",
      "*************************\n",
      "AVG HOURS & WAGES\n",
      "                              wage  hours_per_week\n",
      "department_number                                 \n",
      "Kickstart                14.500000       40.000000\n",
      "Monterey OWP - 5657-100  15.692308       35.153846\n",
      "SC TEMP - 5657-000       15.000000       30.000000\n"
     ]
    }
   ],
   "source": [
    "#summarizes all results above in one place by department code (Program). \n",
    "print(start, \"-\", end)\n",
    "print(\"ENROLLMENTS\")\n",
    "print(final_enrollments)\n",
    "print(\"*************************\")\n",
    "print(\"INTERNAL PLACEMENTS\")\n",
    "print(internal_final)\n",
    "print(\"*************************\")\n",
    "print(\"EXTERNAL PLACEMENTS\")\n",
    "print(external_final)\n",
    "print(\"*************************\")\n",
    "print(\"AVG HOURS & WAGES\")\n",
    "print(Avg_Hours_Final)\n"
   ]
  },
  {
   "cell_type": "code",
   "execution_count": null,
   "id": "sapphire-uganda",
   "metadata": {},
   "outputs": [],
   "source": []
  }
 ],
 "metadata": {
  "kernelspec": {
   "display_name": "Python 3",
   "language": "python",
   "name": "python3"
  },
  "language_info": {
   "codemirror_mode": {
    "name": "ipython",
    "version": 3
   },
   "file_extension": ".py",
   "mimetype": "text/x-python",
   "name": "python",
   "nbconvert_exporter": "python",
   "pygments_lexer": "ipython3",
   "version": "3.8.5"
  }
 },
 "nbformat": 4,
 "nbformat_minor": 5
}
