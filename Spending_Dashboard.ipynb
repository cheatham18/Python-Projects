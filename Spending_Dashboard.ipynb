{
 "cells": [
  {
   "cell_type": "code",
   "execution_count": 1,
   "id": "enormous-leadership",
   "metadata": {},
   "outputs": [],
   "source": [
    "import pandas as pd\n",
    "import numpy as np\n",
    "import datetime as dt"
   ]
  },
  {
   "cell_type": "markdown",
   "id": "impressed-chamber",
   "metadata": {},
   "source": [
    "Read and Clean Data "
   ]
  },
  {
   "cell_type": "code",
   "execution_count": 2,
   "id": "deluxe-series",
   "metadata": {},
   "outputs": [],
   "source": [
    "df_trans = pd.read_csv(\"Trans_Nov.csv\")\n",
    "df_chart = pd.read_csv(\"Chart_Accounts.csv\")"
   ]
  },
  {
   "cell_type": "code",
   "execution_count": 3,
   "id": "anonymous-national",
   "metadata": {},
   "outputs": [],
   "source": [
    "df_chart_new = df_chart.rename(columns={\"Unnamed: 2\":\"Expense_Code\", \"40000\":\"Code\"}) #clean chart of accounts\n",
    "df_chart_new.dropna(how='all', inplace=True)#Clean or organize charts \n",
    "df_chart_new = df_chart_new[[\"Expense_Code\", \"Code\"]]\n",
    "df_chart_new.reset_index(drop=True, inplace = True)"
   ]
  },
  {
   "cell_type": "code",
   "execution_count": 4,
   "id": "still-poetry",
   "metadata": {},
   "outputs": [],
   "source": [
    "df_chart_new.reset_index(drop=True, inplace = True) #df_chart_new is cleaned and ready"
   ]
  },
  {
   "cell_type": "code",
   "execution_count": 5,
   "id": "authorized-diving",
   "metadata": {},
   "outputs": [
    {
     "data": {
      "text/html": [
       "<div>\n",
       "<style scoped>\n",
       "    .dataframe tbody tr th:only-of-type {\n",
       "        vertical-align: middle;\n",
       "    }\n",
       "\n",
       "    .dataframe tbody tr th {\n",
       "        vertical-align: top;\n",
       "    }\n",
       "\n",
       "    .dataframe thead th {\n",
       "        text-align: right;\n",
       "    }\n",
       "</style>\n",
       "<table border=\"1\" class=\"dataframe\">\n",
       "  <thead>\n",
       "    <tr style=\"text-align: right;\">\n",
       "      <th></th>\n",
       "      <th>Expense_Code</th>\n",
       "      <th>Code</th>\n",
       "    </tr>\n",
       "  </thead>\n",
       "  <tbody>\n",
       "    <tr>\n",
       "      <th>0</th>\n",
       "      <td>Donated Goods Retail</td>\n",
       "      <td>40000.0</td>\n",
       "    </tr>\n",
       "    <tr>\n",
       "      <th>1</th>\n",
       "      <td>Retail Sales - Rack Goods</td>\n",
       "      <td>40100.0</td>\n",
       "    </tr>\n",
       "    <tr>\n",
       "      <th>2</th>\n",
       "      <td>Retail Sales - Bin Goods</td>\n",
       "      <td>40200.0</td>\n",
       "    </tr>\n",
       "    <tr>\n",
       "      <th>3</th>\n",
       "      <td>Retail Sales - Furniture</td>\n",
       "      <td>40300.0</td>\n",
       "    </tr>\n",
       "    <tr>\n",
       "      <th>4</th>\n",
       "      <td>Retail Sales - E &amp; M</td>\n",
       "      <td>40400.0</td>\n",
       "    </tr>\n",
       "    <tr>\n",
       "      <th>...</th>\n",
       "      <td>...</td>\n",
       "      <td>...</td>\n",
       "    </tr>\n",
       "    <tr>\n",
       "      <th>150</th>\n",
       "      <td>Cost of Compensation Allocation</td>\n",
       "      <td>79000.0</td>\n",
       "    </tr>\n",
       "    <tr>\n",
       "      <th>151</th>\n",
       "      <td>Allocated Indirect Admin Overhead</td>\n",
       "      <td>79100.0</td>\n",
       "    </tr>\n",
       "    <tr>\n",
       "      <th>152</th>\n",
       "      <td>Non Cash and Non Operating</td>\n",
       "      <td>90000.0</td>\n",
       "    </tr>\n",
       "    <tr>\n",
       "      <th>153</th>\n",
       "      <td>Depreciation &amp; Amortization</td>\n",
       "      <td>90000.0</td>\n",
       "    </tr>\n",
       "    <tr>\n",
       "      <th>154</th>\n",
       "      <td>Bond Issuance Cost Amortization</td>\n",
       "      <td>90100.0</td>\n",
       "    </tr>\n",
       "  </tbody>\n",
       "</table>\n",
       "<p>155 rows × 2 columns</p>\n",
       "</div>"
      ],
      "text/plain": [
       "                          Expense_Code     Code\n",
       "0                 Donated Goods Retail  40000.0\n",
       "1            Retail Sales - Rack Goods  40100.0\n",
       "2             Retail Sales - Bin Goods  40200.0\n",
       "3             Retail Sales - Furniture  40300.0\n",
       "4                 Retail Sales - E & M  40400.0\n",
       "..                                 ...      ...\n",
       "150    Cost of Compensation Allocation  79000.0\n",
       "151  Allocated Indirect Admin Overhead  79100.0\n",
       "152         Non Cash and Non Operating  90000.0\n",
       "153        Depreciation & Amortization  90000.0\n",
       "154    Bond Issuance Cost Amortization  90100.0\n",
       "\n",
       "[155 rows x 2 columns]"
      ]
     },
     "execution_count": 5,
     "metadata": {},
     "output_type": "execute_result"
    }
   ],
   "source": [
    "df_chart_new"
   ]
  },
  {
   "cell_type": "code",
   "execution_count": null,
   "id": "formed-sandwich",
   "metadata": {},
   "outputs": [],
   "source": []
  },
  {
   "cell_type": "code",
   "execution_count": 6,
   "id": "recent-hawaii",
   "metadata": {},
   "outputs": [
    {
     "name": "stdout",
     "output_type": "stream",
     "text": [
      "<class 'pandas.core.frame.DataFrame'>\n",
      "RangeIndex: 4681 entries, 0 to 4680\n",
      "Data columns (total 4 columns):\n",
      " #   Column        Non-Null Count  Dtype \n",
      "---  ------        --------------  ----- \n",
      " 0   Account       4681 non-null   int64 \n",
      " 1   Department.1  4681 non-null   object\n",
      " 2   Location.1    3740 non-null   object\n",
      " 3    Balance      4681 non-null   object\n",
      "dtypes: int64(1), object(3)\n",
      "memory usage: 146.4+ KB\n"
     ]
    }
   ],
   "source": [
    "df_trans_new = df_trans[[\"Account\", \"Department.1\", \"Location.1\", \" Balance \"]] #clean df_trans\n",
    "df_trans_new.info()"
   ]
  },
  {
   "cell_type": "code",
   "execution_count": null,
   "id": "broke-matthew",
   "metadata": {},
   "outputs": [],
   "source": [
    "df_trans_new[' Balance '] = df_trans_new[' Balance '].str.replace(\"(\",\"-\")#make balance a float\n",
    "df_trans_new[' Balance '] = df_trans_new[' Balance '].str.replace(')', \"\") #[' Balance '].str.replace(\")\",\"\")\n",
    "df_trans_new[\" Balance \"] = df_trans_new[\" Balance \"].str.replace(\",\",\"\")"
   ]
  },
  {
   "cell_type": "code",
   "execution_count": null,
   "id": "attractive-david",
   "metadata": {},
   "outputs": [],
   "source": [
    "df_trans_new[\" Balance \"] = df_trans_new[\" Balance \"].str.strip()\n",
    "df_trans_new[\" Balance \"]= df_trans_new[\" Balance \"].astype(float)"
   ]
  },
  {
   "cell_type": "code",
   "execution_count": null,
   "id": "private-semiconductor",
   "metadata": {},
   "outputs": [],
   "source": [
    "df_trans_new.insert(2, \"Dept_Loc\", value=2)"
   ]
  },
  {
   "cell_type": "code",
   "execution_count": null,
   "id": "formal-rates",
   "metadata": {},
   "outputs": [],
   "source": [
    "df_trans_new[\"Location.1\"] = df_trans_new[\"Location.1\"].astype(str)"
   ]
  },
  {
   "cell_type": "code",
   "execution_count": null,
   "id": "adequate-nursery",
   "metadata": {},
   "outputs": [],
   "source": [
    "#df_trans_new[\"Dept_Loc\"].apply(lambda x:)\n",
    "df_trans_new[\"Dept_Loc\"] = df_trans_new[\"Department.1\"] + \"-\"+df_trans_new[\"Location.1\"]"
   ]
  },
  {
   "cell_type": "code",
   "execution_count": null,
   "id": "sixth-plymouth",
   "metadata": {},
   "outputs": [],
   "source": [
    "df_trans_final = df_trans_new.drop(columns=([\"Department.1\", \"Location.1\"]))"
   ]
  },
  {
   "cell_type": "markdown",
   "id": "korean-resident",
   "metadata": {},
   "source": [
    "Create Grouping Lists"
   ]
  },
  {
   "cell_type": "code",
   "execution_count": null,
   "id": "concrete-document",
   "metadata": {},
   "outputs": [],
   "source": [
    "salaries_list = [60220,60230,61010,61020,61030,61040,61100,61190,61310,61320,61330,61395,79000] #salaries, wage and benefits,taxes\n",
    "client_wages_list = [60100,60210]\n",
    "Admin = [79100]\n",
    "Revenue = [43100,43200,43300,43400,43500,43600,43700,44600,44950]\n",
    "comb_list = salaries_list + client_wages_list + Admin + Revenue\n",
    "Departments = ['5657-100', '5657-200', '5658-100','5691-100', '5692-100', '5692-200', '5692-500', '5711-200', '5659-100']\n"
   ]
  },
  {
   "cell_type": "markdown",
   "id": "adapted-lexington",
   "metadata": {},
   "source": [
    "Finding Total Expenses for Each Program and Catagory (S&B, Nonpersonnel, Admin, Client Wages, Revenue)"
   ]
  },
  {
   "cell_type": "code",
   "execution_count": null,
   "id": "choice-price",
   "metadata": {},
   "outputs": [],
   "source": [
    "wages = []\n",
    "non_person = []\n",
    "Administration = []\n",
    "Client = []\n",
    "R = []\n",
    "\n",
    "for i in Departments:\n",
    "    program = df_trans_final[df_trans_final[\"Dept_Loc\"] == i] #Only OWP Data \n",
    "\n",
    "    sb_owp = program[program[\"Account\"].isin(salaries_list)] #Provides just S&B expense codes\n",
    "    elim_client = sb_owp[\" Balance \"].sum() #S&B total including client FICA and WC\n",
    "    Cli_wages = program[program[\"Account\"].isin(client_wages_list)] #Client Wages \n",
    "    wages.append(elim_client - (Cli_wages[\" Balance \"].sum())*.1675) #Eliminate Client FICA & WC from S&B\n",
    "\n",
    "    non_personnel = program[~program[\"Account\"].isin(comb_list)] #Non_personnel \n",
    "    non_person.append(non_personnel[\" Balance \"].sum())\n",
    "\n",
    "    Administ = program[program[\"Account\"].isin(Admin)] #Admin\n",
    "    Administration.append(Administ[\" Balance \"].sum())\n",
    "\n",
    "    Cli_wages = program[program[\"Account\"].isin(client_wages_list)] #Client Wages & FICA\n",
    "    Client.append((Cli_wages[\" Balance \"].sum())*1.1675)\n",
    "\n",
    "    Rev = program[program[\"Account\"].isin(Revenue)] #Total Revenue \n",
    "    R.append(Rev[\" Balance \"].sum())\n"
   ]
  },
  {
   "cell_type": "code",
   "execution_count": null,
   "id": "higher-testing",
   "metadata": {},
   "outputs": [],
   "source": [
    "budget_components=[wages, R, Client, Administration, non_person] #Convert all lists to Series\n",
    "wages = pd.Series(wages)\n",
    "non_person = pd.Series(non_person)\n",
    "Administration = pd.Series(Administration)\n",
    "Client = pd.Series(Client)\n",
    "R = pd.Series(R)\n",
    "Departments = pd.Series(Departments)"
   ]
  },
  {
   "cell_type": "code",
   "execution_count": null,
   "id": "french-clarity",
   "metadata": {},
   "outputs": [],
   "source": [
    "dashboard = pd.concat([Departments, wages, non_person, Administration, Client, R], axis=1)\n",
    "dashboard.rename(columns={0:\"DEPT\", 1:\"S&B\", 2:\"NON_PERSONNEL\",3:\"ADMINISTRATION\",4:\"CLIENT\", 5:\"REVENUE\"}, inplace=True)\n",
    "dashboard"
   ]
  },
  {
   "cell_type": "markdown",
   "id": "equal-straight",
   "metadata": {},
   "source": [
    "Budget DataFrame "
   ]
  },
  {
   "cell_type": "code",
   "execution_count": null,
   "id": "alert-bumper",
   "metadata": {},
   "outputs": [],
   "source": [
    "budget = {'S&B_Budget': [565000,337792,0,0,0,0,0,0,0], 'Non_Personnel_Budget': [62000,48893,0,0,0,0,0,0,0], \n",
    "          'Admin_Budget':[62700,38668,0,0,0,0,0,0,0], \"Client_Budget\":[710296,151841,0,0,0,0,0,0,0]}\n",
    "df_budget = pd.DataFrame(budget)"
   ]
  },
  {
   "cell_type": "code",
   "execution_count": null,
   "id": "several-breach",
   "metadata": {},
   "outputs": [],
   "source": [
    "df_budget"
   ]
  },
  {
   "cell_type": "code",
   "execution_count": null,
   "id": "noticed-testing",
   "metadata": {},
   "outputs": [],
   "source": [
    "final_df = pd.concat([dashboard,df_budget], axis =1)"
   ]
  },
  {
   "cell_type": "code",
   "execution_count": null,
   "id": "valued-briefs",
   "metadata": {},
   "outputs": [],
   "source": [
    "final_df"
   ]
  },
  {
   "cell_type": "code",
   "execution_count": null,
   "id": "crude-norfolk",
   "metadata": {},
   "outputs": [],
   "source": [
    "start_date = pd.to_datetime('7/1/2021')\n",
    "end_date = pd.to_datetime(input(\"Input end date\"))"
   ]
  },
  {
   "cell_type": "code",
   "execution_count": null,
   "id": "changing-macintosh",
   "metadata": {},
   "outputs": [],
   "source": [
    "start_date"
   ]
  },
  {
   "cell_type": "code",
   "execution_count": null,
   "id": "incoming-syndrome",
   "metadata": {},
   "outputs": [],
   "source": [
    "end_date"
   ]
  },
  {
   "cell_type": "code",
   "execution_count": null,
   "id": "explicit-caution",
   "metadata": {},
   "outputs": [],
   "source": [
    "weeks = (end_date - start_date).days/7 #convert to weeks \n",
    "weeks"
   ]
  },
  {
   "cell_type": "code",
   "execution_count": null,
   "id": "taken-vertex",
   "metadata": {},
   "outputs": [],
   "source": [
    "final_df.assign(SB_Projection=lambda x:(final_df[\"S&B\"]+(31*10900)))   #look into making two different ways to project"
   ]
  },
  {
   "cell_type": "code",
   "execution_count": null,
   "id": "metallic-variable",
   "metadata": {},
   "outputs": [],
   "source": [
    "final_df.info()"
   ]
  },
  {
   "cell_type": "code",
   "execution_count": null,
   "id": "concerned-redhead",
   "metadata": {},
   "outputs": [],
   "source": []
  }
 ],
 "metadata": {
  "kernelspec": {
   "display_name": "Python 3",
   "language": "python",
   "name": "python3"
  },
  "language_info": {
   "codemirror_mode": {
    "name": "ipython",
    "version": 3
   },
   "file_extension": ".py",
   "mimetype": "text/x-python",
   "name": "python",
   "nbconvert_exporter": "python",
   "pygments_lexer": "ipython3",
   "version": "3.8.5"
  }
 },
 "nbformat": 4,
 "nbformat_minor": 5
}
