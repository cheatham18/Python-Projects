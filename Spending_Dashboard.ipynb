{
 "cells": [
  {
   "cell_type": "markdown",
   "metadata": {},
   "source": [
    "This program reads in a non-profit company's transaction register and provides total annual spending for each program in the major categories including salaries & benefits (S&B), non-personnel, administrative, and client costs. In addition, projected total annual spending estimates are provided for each department.  "
   ]
  },
  {
   "cell_type": "code",
   "execution_count": 1,
   "metadata": {
    "id": "enormous-leadership"
   },
   "outputs": [],
   "source": [
    "import pandas as pd\n",
    "import numpy as np\n",
    "import datetime as dt"
   ]
  },
  {
   "cell_type": "markdown",
   "metadata": {
    "id": "impressed-chamber"
   },
   "source": [
    "Read and Clean Data "
   ]
  },
  {
   "cell_type": "code",
   "execution_count": 2,
   "metadata": {
    "id": "deluxe-series"
   },
   "outputs": [],
   "source": [
    "df_trans = pd.read_csv(\"Trans_Nov.csv\") #Read in company transaction register \n",
    "df_chart = pd.read_csv(\"Chart_Accounts.csv\") #Read in company expense code legend"
   ]
  },
  {
   "cell_type": "markdown",
   "metadata": {},
   "source": [
    "Clean and Modify df_chart"
   ]
  },
  {
   "cell_type": "code",
   "execution_count": 3,
   "metadata": {
    "scrolled": true
   },
   "outputs": [
    {
     "data": {
      "text/html": [
       "<div>\n",
       "<style scoped>\n",
       "    .dataframe tbody tr th:only-of-type {\n",
       "        vertical-align: middle;\n",
       "    }\n",
       "\n",
       "    .dataframe tbody tr th {\n",
       "        vertical-align: top;\n",
       "    }\n",
       "\n",
       "    .dataframe thead th {\n",
       "        text-align: right;\n",
       "    }\n",
       "</style>\n",
       "<table border=\"1\" class=\"dataframe\">\n",
       "  <thead>\n",
       "    <tr style=\"text-align: right;\">\n",
       "      <th></th>\n",
       "      <th>REVENUE</th>\n",
       "      <th>Unnamed: 1</th>\n",
       "      <th>Unnamed: 2</th>\n",
       "      <th>40000</th>\n",
       "      <th>49999</th>\n",
       "      <th>Unnamed: 5</th>\n",
       "      <th>Unnamed: 6</th>\n",
       "      <th>INACTIVE</th>\n",
       "      <th>Unnamed: 8</th>\n",
       "      <th>Unnamed: 9</th>\n",
       "      <th>Unnamed: 10</th>\n",
       "      <th>Unnamed: 11</th>\n",
       "      <th>Unnamed: 12</th>\n",
       "      <th>Unnamed: 13</th>\n",
       "      <th>Unnamed: 14</th>\n",
       "    </tr>\n",
       "  </thead>\n",
       "  <tbody>\n",
       "    <tr>\n",
       "      <th>0</th>\n",
       "      <td>NaN</td>\n",
       "      <td>NaN</td>\n",
       "      <td>NaN</td>\n",
       "      <td>NaN</td>\n",
       "      <td>NaN</td>\n",
       "      <td>NaN</td>\n",
       "      <td>NaN</td>\n",
       "      <td>NaN</td>\n",
       "      <td>NaN</td>\n",
       "      <td>NaN</td>\n",
       "      <td>NaN</td>\n",
       "      <td>NaN</td>\n",
       "      <td>NaN</td>\n",
       "      <td>NaN</td>\n",
       "      <td>NaN</td>\n",
       "    </tr>\n",
       "    <tr>\n",
       "      <th>1</th>\n",
       "      <td>NaN</td>\n",
       "      <td>NaN</td>\n",
       "      <td>Donated Goods Retail</td>\n",
       "      <td>40000.0</td>\n",
       "      <td>40999.0</td>\n",
       "      <td>Map To</td>\n",
       "      <td>NaN</td>\n",
       "      <td>NaN</td>\n",
       "      <td>NaN</td>\n",
       "      <td>NaN</td>\n",
       "      <td>NaN</td>\n",
       "      <td>NaN</td>\n",
       "      <td>NaN</td>\n",
       "      <td>NaN</td>\n",
       "      <td>NaN</td>\n",
       "    </tr>\n",
       "    <tr>\n",
       "      <th>2</th>\n",
       "      <td>100</td>\n",
       "      <td>NaN</td>\n",
       "      <td>Retail Sales - Rack Goods</td>\n",
       "      <td>40100.0</td>\n",
       "      <td>NaN</td>\n",
       "      <td>477</td>\n",
       "      <td>NaN</td>\n",
       "      <td>NaN</td>\n",
       "      <td>NaN</td>\n",
       "      <td>NaN</td>\n",
       "      <td>NaN</td>\n",
       "      <td>NaN</td>\n",
       "      <td>NaN</td>\n",
       "      <td>NaN</td>\n",
       "      <td>NaN</td>\n",
       "    </tr>\n",
       "    <tr>\n",
       "      <th>3</th>\n",
       "      <td>100</td>\n",
       "      <td>NaN</td>\n",
       "      <td>Retail Sales - Bin Goods</td>\n",
       "      <td>40200.0</td>\n",
       "      <td>NaN</td>\n",
       "      <td>478</td>\n",
       "      <td>NaN</td>\n",
       "      <td>NaN</td>\n",
       "      <td>NaN</td>\n",
       "      <td>NaN</td>\n",
       "      <td>NaN</td>\n",
       "      <td>NaN</td>\n",
       "      <td>NaN</td>\n",
       "      <td>NaN</td>\n",
       "      <td>NaN</td>\n",
       "    </tr>\n",
       "    <tr>\n",
       "      <th>4</th>\n",
       "      <td>100</td>\n",
       "      <td>NaN</td>\n",
       "      <td>Retail Sales - Furniture</td>\n",
       "      <td>40300.0</td>\n",
       "      <td>NaN</td>\n",
       "      <td>483</td>\n",
       "      <td>NaN</td>\n",
       "      <td>NaN</td>\n",
       "      <td>NaN</td>\n",
       "      <td>NaN</td>\n",
       "      <td>NaN</td>\n",
       "      <td>NaN</td>\n",
       "      <td>NaN</td>\n",
       "      <td>NaN</td>\n",
       "      <td>NaN</td>\n",
       "    </tr>\n",
       "  </tbody>\n",
       "</table>\n",
       "</div>"
      ],
      "text/plain": [
       "  REVENUE  Unnamed: 1                 Unnamed: 2    40000    49999 Unnamed: 5  \\\n",
       "0     NaN         NaN                        NaN      NaN      NaN        NaN   \n",
       "1     NaN         NaN       Donated Goods Retail  40000.0  40999.0     Map To   \n",
       "2     100         NaN  Retail Sales - Rack Goods  40100.0      NaN        477   \n",
       "3     100         NaN   Retail Sales - Bin Goods  40200.0      NaN        478   \n",
       "4     100         NaN   Retail Sales - Furniture  40300.0      NaN        483   \n",
       "\n",
       "  Unnamed: 6  INACTIVE  Unnamed: 8  Unnamed: 9  Unnamed: 10  Unnamed: 11  \\\n",
       "0        NaN       NaN         NaN         NaN          NaN          NaN   \n",
       "1        NaN       NaN         NaN         NaN          NaN          NaN   \n",
       "2        NaN       NaN         NaN         NaN          NaN          NaN   \n",
       "3        NaN       NaN         NaN         NaN          NaN          NaN   \n",
       "4        NaN       NaN         NaN         NaN          NaN          NaN   \n",
       "\n",
       "   Unnamed: 12  Unnamed: 13  Unnamed: 14  \n",
       "0          NaN          NaN          NaN  \n",
       "1          NaN          NaN          NaN  \n",
       "2          NaN          NaN          NaN  \n",
       "3          NaN          NaN          NaN  \n",
       "4          NaN          NaN          NaN  "
      ]
     },
     "execution_count": 3,
     "metadata": {},
     "output_type": "execute_result"
    }
   ],
   "source": [
    "df_chart.head()"
   ]
  },
  {
   "cell_type": "code",
   "execution_count": 4,
   "metadata": {
    "id": "anonymous-national"
   },
   "outputs": [
    {
     "data": {
      "text/html": [
       "<div>\n",
       "<style scoped>\n",
       "    .dataframe tbody tr th:only-of-type {\n",
       "        vertical-align: middle;\n",
       "    }\n",
       "\n",
       "    .dataframe tbody tr th {\n",
       "        vertical-align: top;\n",
       "    }\n",
       "\n",
       "    .dataframe thead th {\n",
       "        text-align: right;\n",
       "    }\n",
       "</style>\n",
       "<table border=\"1\" class=\"dataframe\">\n",
       "  <thead>\n",
       "    <tr style=\"text-align: right;\">\n",
       "      <th></th>\n",
       "      <th>Expense_Code</th>\n",
       "      <th>Code</th>\n",
       "    </tr>\n",
       "  </thead>\n",
       "  <tbody>\n",
       "    <tr>\n",
       "      <th>0</th>\n",
       "      <td>Donated Goods Retail</td>\n",
       "      <td>40000.0</td>\n",
       "    </tr>\n",
       "    <tr>\n",
       "      <th>1</th>\n",
       "      <td>Retail Sales - Rack Goods</td>\n",
       "      <td>40100.0</td>\n",
       "    </tr>\n",
       "    <tr>\n",
       "      <th>2</th>\n",
       "      <td>Retail Sales - Bin Goods</td>\n",
       "      <td>40200.0</td>\n",
       "    </tr>\n",
       "    <tr>\n",
       "      <th>3</th>\n",
       "      <td>Retail Sales - Furniture</td>\n",
       "      <td>40300.0</td>\n",
       "    </tr>\n",
       "    <tr>\n",
       "      <th>4</th>\n",
       "      <td>Retail Sales - E &amp; M</td>\n",
       "      <td>40400.0</td>\n",
       "    </tr>\n",
       "    <tr>\n",
       "      <th>...</th>\n",
       "      <td>...</td>\n",
       "      <td>...</td>\n",
       "    </tr>\n",
       "    <tr>\n",
       "      <th>150</th>\n",
       "      <td>Cost of Compensation Allocation</td>\n",
       "      <td>79000.0</td>\n",
       "    </tr>\n",
       "    <tr>\n",
       "      <th>151</th>\n",
       "      <td>Allocated Indirect Admin Overhead</td>\n",
       "      <td>79100.0</td>\n",
       "    </tr>\n",
       "    <tr>\n",
       "      <th>152</th>\n",
       "      <td>Non Cash and Non Operating</td>\n",
       "      <td>90000.0</td>\n",
       "    </tr>\n",
       "    <tr>\n",
       "      <th>153</th>\n",
       "      <td>Depreciation &amp; Amortization</td>\n",
       "      <td>90000.0</td>\n",
       "    </tr>\n",
       "    <tr>\n",
       "      <th>154</th>\n",
       "      <td>Bond Issuance Cost Amortization</td>\n",
       "      <td>90100.0</td>\n",
       "    </tr>\n",
       "  </tbody>\n",
       "</table>\n",
       "<p>155 rows × 2 columns</p>\n",
       "</div>"
      ],
      "text/plain": [
       "                          Expense_Code     Code\n",
       "0                 Donated Goods Retail  40000.0\n",
       "1            Retail Sales - Rack Goods  40100.0\n",
       "2             Retail Sales - Bin Goods  40200.0\n",
       "3             Retail Sales - Furniture  40300.0\n",
       "4                 Retail Sales - E & M  40400.0\n",
       "..                                 ...      ...\n",
       "150    Cost of Compensation Allocation  79000.0\n",
       "151  Allocated Indirect Admin Overhead  79100.0\n",
       "152         Non Cash and Non Operating  90000.0\n",
       "153        Depreciation & Amortization  90000.0\n",
       "154    Bond Issuance Cost Amortization  90100.0\n",
       "\n",
       "[155 rows x 2 columns]"
      ]
     },
     "execution_count": 4,
     "metadata": {},
     "output_type": "execute_result"
    }
   ],
   "source": [
    "#clean chart of accounts\n",
    "df_chart_new = df_chart.rename(columns={\"Unnamed: 2\":\"Expense_Code\", \"40000\":\"Code\"}) \n",
    "df_chart_new.dropna(how='all', inplace=True)#drop null values\n",
    "df_chart_new = df_chart_new[[\"Expense_Code\", \"Code\"]] #we only the listed fields\n",
    "df_chart_new.reset_index(drop=True, inplace = True)#reset index\n",
    "df_chart_new #All prepared and in the proper structure"
   ]
  },
  {
   "cell_type": "markdown",
   "metadata": {
    "id": "formed-sandwich"
   },
   "source": [
    "Clean and Modify df_trans"
   ]
  },
  {
   "cell_type": "code",
   "execution_count": 5,
   "metadata": {
    "id": "recent-hawaii",
    "outputId": "065ca8fe-aab1-4879-93f2-c1dad0f88c31"
   },
   "outputs": [
    {
     "name": "stdout",
     "output_type": "stream",
     "text": [
      "<class 'pandas.core.frame.DataFrame'>\n",
      "RangeIndex: 4681 entries, 0 to 4680\n",
      "Data columns (total 4 columns):\n",
      " #   Column        Non-Null Count  Dtype \n",
      "---  ------        --------------  ----- \n",
      " 0   Account       4681 non-null   int64 \n",
      " 1   Department.1  4681 non-null   object\n",
      " 2   Location.1    3740 non-null   object\n",
      " 3    Balance      4681 non-null   object\n",
      "dtypes: int64(1), object(3)\n",
      "memory usage: 146.4+ KB\n"
     ]
    }
   ],
   "source": [
    "#Modify, clean and use only needed fields\n",
    "df_trans_new = df_trans[[\"Account\", \"Department.1\", \"Location.1\", \" Balance \"]] \n",
    "df_trans_new.info()"
   ]
  },
  {
   "cell_type": "code",
   "execution_count": 6,
   "metadata": {
    "id": "broke-matthew",
    "scrolled": true
   },
   "outputs": [
    {
     "name": "stderr",
     "output_type": "stream",
     "text": [
      "<ipython-input-6-9216fda9c979>:1: SettingWithCopyWarning: \n",
      "A value is trying to be set on a copy of a slice from a DataFrame.\n",
      "Try using .loc[row_indexer,col_indexer] = value instead\n",
      "\n",
      "See the caveats in the documentation: https://pandas.pydata.org/pandas-docs/stable/user_guide/indexing.html#returning-a-view-versus-a-copy\n",
      "  df_trans_new[' Balance '] = df_trans_new[' Balance '].str.replace(\"(\",\"-\")#make balance a float and remove () that indicate negative number\n",
      "<ipython-input-6-9216fda9c979>:2: SettingWithCopyWarning: \n",
      "A value is trying to be set on a copy of a slice from a DataFrame.\n",
      "Try using .loc[row_indexer,col_indexer] = value instead\n",
      "\n",
      "See the caveats in the documentation: https://pandas.pydata.org/pandas-docs/stable/user_guide/indexing.html#returning-a-view-versus-a-copy\n",
      "  df_trans_new[' Balance '] = df_trans_new[' Balance '].str.replace(')', \"\") #[' Balance '].str.replace(\")\",\"\")\n",
      "<ipython-input-6-9216fda9c979>:3: SettingWithCopyWarning: \n",
      "A value is trying to be set on a copy of a slice from a DataFrame.\n",
      "Try using .loc[row_indexer,col_indexer] = value instead\n",
      "\n",
      "See the caveats in the documentation: https://pandas.pydata.org/pandas-docs/stable/user_guide/indexing.html#returning-a-view-versus-a-copy\n",
      "  df_trans_new[\" Balance \"] = df_trans_new[\" Balance \"].str.replace(\",\",\"\")\n",
      "<ipython-input-6-9216fda9c979>:4: SettingWithCopyWarning: \n",
      "A value is trying to be set on a copy of a slice from a DataFrame.\n",
      "Try using .loc[row_indexer,col_indexer] = value instead\n",
      "\n",
      "See the caveats in the documentation: https://pandas.pydata.org/pandas-docs/stable/user_guide/indexing.html#returning-a-view-versus-a-copy\n",
      "  df_trans_new[\" Balance \"] = df_trans_new[\" Balance \"].str.strip() #remove extra spaces\n",
      "<ipython-input-6-9216fda9c979>:5: SettingWithCopyWarning: \n",
      "A value is trying to be set on a copy of a slice from a DataFrame.\n",
      "Try using .loc[row_indexer,col_indexer] = value instead\n",
      "\n",
      "See the caveats in the documentation: https://pandas.pydata.org/pandas-docs/stable/user_guide/indexing.html#returning-a-view-versus-a-copy\n",
      "  df_trans_new[\" Balance \"]= df_trans_new[\" Balance \"].astype(float) #change data type to float\n"
     ]
    }
   ],
   "source": [
    "df_trans_new[' Balance '] = df_trans_new[' Balance '].str.replace(\"(\",\"-\")#make balance a float and remove () that indicate negative number\n",
    "df_trans_new[' Balance '] = df_trans_new[' Balance '].str.replace(')', \"\") #[' Balance '].str.replace(\")\",\"\")\n",
    "df_trans_new[\" Balance \"] = df_trans_new[\" Balance \"].str.replace(\",\",\"\")\n",
    "df_trans_new[\" Balance \"] = df_trans_new[\" Balance \"].str.strip() #remove extra spaces\n",
    "df_trans_new[\" Balance \"]= df_trans_new[\" Balance \"].astype(float) #change data type to float"
   ]
  },
  {
   "cell_type": "code",
   "execution_count": 7,
   "metadata": {
    "id": "private-semiconductor"
   },
   "outputs": [],
   "source": [
    "df_trans_new.insert(2, \"Dept_Loc\", value=2) #insert new column"
   ]
  },
  {
   "cell_type": "code",
   "execution_count": 8,
   "metadata": {
    "id": "formal-rates"
   },
   "outputs": [
    {
     "name": "stderr",
     "output_type": "stream",
     "text": [
      "<ipython-input-8-dba5f30ae3f4>:1: SettingWithCopyWarning: \n",
      "A value is trying to be set on a copy of a slice from a DataFrame.\n",
      "Try using .loc[row_indexer,col_indexer] = value instead\n",
      "\n",
      "See the caveats in the documentation: https://pandas.pydata.org/pandas-docs/stable/user_guide/indexing.html#returning-a-view-versus-a-copy\n",
      "  df_trans_new[\"Location.1\"] = df_trans_new[\"Location.1\"].astype(str) #set as string data type\n"
     ]
    }
   ],
   "source": [
    "df_trans_new[\"Location.1\"] = df_trans_new[\"Location.1\"].astype(str) #set as string data type"
   ]
  },
  {
   "cell_type": "code",
   "execution_count": 9,
   "metadata": {
    "id": "adequate-nursery"
   },
   "outputs": [
    {
     "name": "stderr",
     "output_type": "stream",
     "text": [
      "<ipython-input-9-78dd25f55dfd>:2: SettingWithCopyWarning: \n",
      "A value is trying to be set on a copy of a slice from a DataFrame.\n",
      "Try using .loc[row_indexer,col_indexer] = value instead\n",
      "\n",
      "See the caveats in the documentation: https://pandas.pydata.org/pandas-docs/stable/user_guide/indexing.html#returning-a-view-versus-a-copy\n",
      "  df_trans_new[\"Dept_Loc\"] = df_trans_new[\"Department.1\"] + \"-\"+df_trans_new[\"Location.1\"]\n"
     ]
    }
   ],
   "source": [
    "#combine Department.1 and Location.1 into newly created Dept_Loc column. \n",
    "df_trans_new[\"Dept_Loc\"] = df_trans_new[\"Department.1\"] + \"-\"+df_trans_new[\"Location.1\"]"
   ]
  },
  {
   "cell_type": "code",
   "execution_count": 10,
   "metadata": {
    "id": "sixth-plymouth"
   },
   "outputs": [
    {
     "data": {
      "text/html": [
       "<div>\n",
       "<style scoped>\n",
       "    .dataframe tbody tr th:only-of-type {\n",
       "        vertical-align: middle;\n",
       "    }\n",
       "\n",
       "    .dataframe tbody tr th {\n",
       "        vertical-align: top;\n",
       "    }\n",
       "\n",
       "    .dataframe thead th {\n",
       "        text-align: right;\n",
       "    }\n",
       "</style>\n",
       "<table border=\"1\" class=\"dataframe\">\n",
       "  <thead>\n",
       "    <tr style=\"text-align: right;\">\n",
       "      <th></th>\n",
       "      <th>Account</th>\n",
       "      <th>Dept_Loc</th>\n",
       "      <th>Balance</th>\n",
       "    </tr>\n",
       "  </thead>\n",
       "  <tbody>\n",
       "    <tr>\n",
       "      <th>0</th>\n",
       "      <td>61100</td>\n",
       "      <td>5659-100</td>\n",
       "      <td>3.88</td>\n",
       "    </tr>\n",
       "    <tr>\n",
       "      <th>1</th>\n",
       "      <td>61100</td>\n",
       "      <td>5671-200</td>\n",
       "      <td>-42.99</td>\n",
       "    </tr>\n",
       "    <tr>\n",
       "      <th>2</th>\n",
       "      <td>61100</td>\n",
       "      <td>5672-200</td>\n",
       "      <td>-24.87</td>\n",
       "    </tr>\n",
       "    <tr>\n",
       "      <th>3</th>\n",
       "      <td>61100</td>\n",
       "      <td>5672-200</td>\n",
       "      <td>43.98</td>\n",
       "    </tr>\n",
       "    <tr>\n",
       "      <th>4</th>\n",
       "      <td>61100</td>\n",
       "      <td>5692-200</td>\n",
       "      <td>0.57</td>\n",
       "    </tr>\n",
       "  </tbody>\n",
       "</table>\n",
       "</div>"
      ],
      "text/plain": [
       "   Account  Dept_Loc   Balance \n",
       "0    61100  5659-100       3.88\n",
       "1    61100  5671-200     -42.99\n",
       "2    61100  5672-200     -24.87\n",
       "3    61100  5672-200      43.98\n",
       "4    61100  5692-200       0.57"
      ]
     },
     "execution_count": 10,
     "metadata": {},
     "output_type": "execute_result"
    }
   ],
   "source": [
    "df_trans_final = df_trans_new.drop(columns=([\"Department.1\", \"Location.1\"])) #drop fields \n",
    "df_trans_final.head() #Dataframe is complete"
   ]
  },
  {
   "cell_type": "markdown",
   "metadata": {
    "id": "korean-resident"
   },
   "source": [
    "Create Expense Code Lists"
   ]
  },
  {
   "cell_type": "code",
   "execution_count": 11,
   "metadata": {
    "id": "concrete-document"
   },
   "outputs": [],
   "source": [
    "#Putting company expense codes into lists based off the general category they fall under\n",
    "salaries_list = [60220,60230,61010,61020,61030,61040,61100,61190,61310,61320,61330,61395,79000] #salaries, wage and benefits,taxes\n",
    "client_wages_list = [60100,60210] #client wages expense codes\n",
    "Admin = [79100] #Administrative expense codes\n",
    "Revenue = [43100,43200,43300,43400,43500,43600,43700,44600,44950] #Revenue expense codes\n",
    "comb_list = salaries_list + client_wages_list + Admin + Revenue #This later will be used to find non-personnel expenses\n",
    "\n",
    "#Department or program numbers below\n",
    "Departments = ['5657-100', '5657-200', '5658-100','5691-100', '5692-100', '5692-200', '5692-500', '5711-200', '5659-100']\n"
   ]
  },
  {
   "cell_type": "markdown",
   "metadata": {
    "id": "adapted-lexington"
   },
   "source": [
    "Finding Total Expenses for Each Program and General Category (S&B, Nonpersonnel, Admin, Client Wages)"
   ]
  },
  {
   "cell_type": "code",
   "execution_count": 12,
   "metadata": {
    "id": "choice-price"
   },
   "outputs": [],
   "source": [
    "#Create lists for each general category of total expenses \n",
    "wages = []\n",
    "non_person = []\n",
    "Administration = []\n",
    "Client = []\n",
    "\n",
    "#This for loop will filter the dataframe by program department code and provide totals for each general category\n",
    "#The resuls will eventually be combined into a dataframe.\n",
    "for i in Departments: #for loop that will go through each department and calculate total expenses\n",
    "    program = df_trans_final[df_trans_final[\"Dept_Loc\"] == i] #filters dataframe for spec. dept.\n",
    "\n",
    "    sb_owp = program[program[\"Account\"].isin(salaries_list)] #filters for only S&B expense codes\n",
    "    elim_client = sb_owp[\" Balance \"].sum() #sums total S&B expenses including client FICA and WC\n",
    "    Cli_wages = program[program[\"Account\"].isin(client_wages_list)] #Client Wages \n",
    "    wages.append(elim_client - (Cli_wages[\" Balance \"].sum())*.1675) #Eliminate Client FICA & WC from S&B\n",
    "\n",
    "    non_personnel = program[~program[\"Account\"].isin(comb_list)] #any expenses not in comb_list default to non-personnel\n",
    "    non_person.append(non_personnel[\" Balance \"].sum())\n",
    "\n",
    "    Administ = program[program[\"Account\"].isin(Admin)] #Admin\n",
    "    Administration.append(Administ[\" Balance \"].sum())\n",
    "\n",
    "    Cli_wages = program[program[\"Account\"].isin(client_wages_list)] #Client Wages & FICA\n",
    "    Client.append((Cli_wages[\" Balance \"].sum())*1.1675)\n"
   ]
  },
  {
   "cell_type": "code",
   "execution_count": 13,
   "metadata": {
    "id": "higher-testing"
   },
   "outputs": [
    {
     "name": "stderr",
     "output_type": "stream",
     "text": [
      "<ipython-input-13-eb875d030621>:6: DeprecationWarning: The default dtype for empty Series will be 'object' instead of 'float64' in a future version. Specify a dtype explicitly to silence this warning.\n",
      "  total = pd.Series()\n"
     ]
    }
   ],
   "source": [
    "#Convert all lists above to Series\n",
    "wages = pd.Series(wages)\n",
    "non_person = pd.Series(non_person)\n",
    "Administration = pd.Series(Administration)\n",
    "Client = pd.Series(Client)\n",
    "total = pd.Series()\n",
    "Departments = pd.Series(Departments)"
   ]
  },
  {
   "cell_type": "code",
   "execution_count": 14,
   "metadata": {
    "id": "french-clarity"
   },
   "outputs": [
    {
     "data": {
      "text/html": [
       "<div>\n",
       "<style scoped>\n",
       "    .dataframe tbody tr th:only-of-type {\n",
       "        vertical-align: middle;\n",
       "    }\n",
       "\n",
       "    .dataframe tbody tr th {\n",
       "        vertical-align: top;\n",
       "    }\n",
       "\n",
       "    .dataframe thead th {\n",
       "        text-align: right;\n",
       "    }\n",
       "</style>\n",
       "<table border=\"1\" class=\"dataframe\">\n",
       "  <thead>\n",
       "    <tr style=\"text-align: right;\">\n",
       "      <th></th>\n",
       "      <th>DEPT</th>\n",
       "      <th>S&amp;B</th>\n",
       "      <th>NON_PERSONNEL</th>\n",
       "      <th>ADMINISTRATION</th>\n",
       "      <th>CLIENT</th>\n",
       "      <th>TOTAL_EXPENSES</th>\n",
       "    </tr>\n",
       "  </thead>\n",
       "  <tbody>\n",
       "    <tr>\n",
       "      <th>0</th>\n",
       "      <td>5657-100</td>\n",
       "      <td>197500.481350</td>\n",
       "      <td>17551.32</td>\n",
       "      <td>19672.39</td>\n",
       "      <td>130216.388650</td>\n",
       "      <td>NaN</td>\n",
       "    </tr>\n",
       "    <tr>\n",
       "      <th>1</th>\n",
       "      <td>5657-200</td>\n",
       "      <td>78992.314375</td>\n",
       "      <td>4166.99</td>\n",
       "      <td>8375.55</td>\n",
       "      <td>2074.355625</td>\n",
       "      <td>NaN</td>\n",
       "    </tr>\n",
       "    <tr>\n",
       "      <th>2</th>\n",
       "      <td>5658-100</td>\n",
       "      <td>3076.177450</td>\n",
       "      <td>115.48</td>\n",
       "      <td>1179.40</td>\n",
       "      <td>9133.422550</td>\n",
       "      <td>NaN</td>\n",
       "    </tr>\n",
       "    <tr>\n",
       "      <th>3</th>\n",
       "      <td>5691-100</td>\n",
       "      <td>0.000000</td>\n",
       "      <td>560.86</td>\n",
       "      <td>0.00</td>\n",
       "      <td>0.000000</td>\n",
       "      <td>NaN</td>\n",
       "    </tr>\n",
       "    <tr>\n",
       "      <th>4</th>\n",
       "      <td>5692-100</td>\n",
       "      <td>1491.032700</td>\n",
       "      <td>138.54</td>\n",
       "      <td>0.00</td>\n",
       "      <td>1574.677300</td>\n",
       "      <td>NaN</td>\n",
       "    </tr>\n",
       "    <tr>\n",
       "      <th>5</th>\n",
       "      <td>5692-200</td>\n",
       "      <td>437.201500</td>\n",
       "      <td>189.45</td>\n",
       "      <td>0.00</td>\n",
       "      <td>250.078500</td>\n",
       "      <td>NaN</td>\n",
       "    </tr>\n",
       "    <tr>\n",
       "      <th>6</th>\n",
       "      <td>5692-500</td>\n",
       "      <td>3331.007250</td>\n",
       "      <td>2921.55</td>\n",
       "      <td>0.00</td>\n",
       "      <td>7452.502750</td>\n",
       "      <td>NaN</td>\n",
       "    </tr>\n",
       "    <tr>\n",
       "      <th>7</th>\n",
       "      <td>5711-200</td>\n",
       "      <td>11083.860000</td>\n",
       "      <td>212.84</td>\n",
       "      <td>1697.69</td>\n",
       "      <td>0.000000</td>\n",
       "      <td>NaN</td>\n",
       "    </tr>\n",
       "    <tr>\n",
       "      <th>8</th>\n",
       "      <td>5659-100</td>\n",
       "      <td>4685.640000</td>\n",
       "      <td>1871.20</td>\n",
       "      <td>655.69</td>\n",
       "      <td>0.000000</td>\n",
       "      <td>NaN</td>\n",
       "    </tr>\n",
       "  </tbody>\n",
       "</table>\n",
       "</div>"
      ],
      "text/plain": [
       "       DEPT            S&B  NON_PERSONNEL  ADMINISTRATION         CLIENT  \\\n",
       "0  5657-100  197500.481350       17551.32        19672.39  130216.388650   \n",
       "1  5657-200   78992.314375        4166.99         8375.55    2074.355625   \n",
       "2  5658-100    3076.177450         115.48         1179.40    9133.422550   \n",
       "3  5691-100       0.000000         560.86            0.00       0.000000   \n",
       "4  5692-100    1491.032700         138.54            0.00    1574.677300   \n",
       "5  5692-200     437.201500         189.45            0.00     250.078500   \n",
       "6  5692-500    3331.007250        2921.55            0.00    7452.502750   \n",
       "7  5711-200   11083.860000         212.84         1697.69       0.000000   \n",
       "8  5659-100    4685.640000        1871.20          655.69       0.000000   \n",
       "\n",
       "   TOTAL_EXPENSES  \n",
       "0             NaN  \n",
       "1             NaN  \n",
       "2             NaN  \n",
       "3             NaN  \n",
       "4             NaN  \n",
       "5             NaN  \n",
       "6             NaN  \n",
       "7             NaN  \n",
       "8             NaN  "
      ]
     },
     "execution_count": 14,
     "metadata": {},
     "output_type": "execute_result"
    }
   ],
   "source": [
    "#concat Series above together to create new dataframe\n",
    "dashboard = pd.concat([Departments, wages, non_person, Administration, Client, total], axis=1)\n",
    "dashboard.rename(columns={0:\"DEPT\", 1:\"S&B\", 2:\"NON_PERSONNEL\",3:\"ADMINISTRATION\",4:\"CLIENT\", 5:\"TOTAL_EXPENSES\"}, inplace=True)\n",
    "dashboard"
   ]
  },
  {
   "cell_type": "code",
   "execution_count": 15,
   "metadata": {},
   "outputs": [
    {
     "data": {
      "text/html": [
       "<div>\n",
       "<style scoped>\n",
       "    .dataframe tbody tr th:only-of-type {\n",
       "        vertical-align: middle;\n",
       "    }\n",
       "\n",
       "    .dataframe tbody tr th {\n",
       "        vertical-align: top;\n",
       "    }\n",
       "\n",
       "    .dataframe thead th {\n",
       "        text-align: right;\n",
       "    }\n",
       "</style>\n",
       "<table border=\"1\" class=\"dataframe\">\n",
       "  <thead>\n",
       "    <tr style=\"text-align: right;\">\n",
       "      <th></th>\n",
       "      <th>DEPT</th>\n",
       "      <th>S&amp;B</th>\n",
       "      <th>NON_PERSONNEL</th>\n",
       "      <th>ADMINISTRATION</th>\n",
       "      <th>CLIENT</th>\n",
       "      <th>TOTAL_EXPENSES</th>\n",
       "    </tr>\n",
       "  </thead>\n",
       "  <tbody>\n",
       "    <tr>\n",
       "      <th>0</th>\n",
       "      <td>5657-100</td>\n",
       "      <td>197500.481350</td>\n",
       "      <td>17551.32</td>\n",
       "      <td>19672.39</td>\n",
       "      <td>130216.388650</td>\n",
       "      <td>364940.58</td>\n",
       "    </tr>\n",
       "    <tr>\n",
       "      <th>1</th>\n",
       "      <td>5657-200</td>\n",
       "      <td>78992.314375</td>\n",
       "      <td>4166.99</td>\n",
       "      <td>8375.55</td>\n",
       "      <td>2074.355625</td>\n",
       "      <td>93609.21</td>\n",
       "    </tr>\n",
       "    <tr>\n",
       "      <th>2</th>\n",
       "      <td>5658-100</td>\n",
       "      <td>3076.177450</td>\n",
       "      <td>115.48</td>\n",
       "      <td>1179.40</td>\n",
       "      <td>9133.422550</td>\n",
       "      <td>13504.48</td>\n",
       "    </tr>\n",
       "    <tr>\n",
       "      <th>3</th>\n",
       "      <td>5691-100</td>\n",
       "      <td>0.000000</td>\n",
       "      <td>560.86</td>\n",
       "      <td>0.00</td>\n",
       "      <td>0.000000</td>\n",
       "      <td>560.86</td>\n",
       "    </tr>\n",
       "    <tr>\n",
       "      <th>4</th>\n",
       "      <td>5692-100</td>\n",
       "      <td>1491.032700</td>\n",
       "      <td>138.54</td>\n",
       "      <td>0.00</td>\n",
       "      <td>1574.677300</td>\n",
       "      <td>3204.25</td>\n",
       "    </tr>\n",
       "    <tr>\n",
       "      <th>5</th>\n",
       "      <td>5692-200</td>\n",
       "      <td>437.201500</td>\n",
       "      <td>189.45</td>\n",
       "      <td>0.00</td>\n",
       "      <td>250.078500</td>\n",
       "      <td>876.73</td>\n",
       "    </tr>\n",
       "    <tr>\n",
       "      <th>6</th>\n",
       "      <td>5692-500</td>\n",
       "      <td>3331.007250</td>\n",
       "      <td>2921.55</td>\n",
       "      <td>0.00</td>\n",
       "      <td>7452.502750</td>\n",
       "      <td>13705.06</td>\n",
       "    </tr>\n",
       "    <tr>\n",
       "      <th>7</th>\n",
       "      <td>5711-200</td>\n",
       "      <td>11083.860000</td>\n",
       "      <td>212.84</td>\n",
       "      <td>1697.69</td>\n",
       "      <td>0.000000</td>\n",
       "      <td>12994.39</td>\n",
       "    </tr>\n",
       "    <tr>\n",
       "      <th>8</th>\n",
       "      <td>5659-100</td>\n",
       "      <td>4685.640000</td>\n",
       "      <td>1871.20</td>\n",
       "      <td>655.69</td>\n",
       "      <td>0.000000</td>\n",
       "      <td>7212.53</td>\n",
       "    </tr>\n",
       "  </tbody>\n",
       "</table>\n",
       "</div>"
      ],
      "text/plain": [
       "       DEPT            S&B  NON_PERSONNEL  ADMINISTRATION         CLIENT  \\\n",
       "0  5657-100  197500.481350       17551.32        19672.39  130216.388650   \n",
       "1  5657-200   78992.314375        4166.99         8375.55    2074.355625   \n",
       "2  5658-100    3076.177450         115.48         1179.40    9133.422550   \n",
       "3  5691-100       0.000000         560.86            0.00       0.000000   \n",
       "4  5692-100    1491.032700         138.54            0.00    1574.677300   \n",
       "5  5692-200     437.201500         189.45            0.00     250.078500   \n",
       "6  5692-500    3331.007250        2921.55            0.00    7452.502750   \n",
       "7  5711-200   11083.860000         212.84         1697.69       0.000000   \n",
       "8  5659-100    4685.640000        1871.20          655.69       0.000000   \n",
       "\n",
       "   TOTAL_EXPENSES  \n",
       "0       364940.58  \n",
       "1        93609.21  \n",
       "2        13504.48  \n",
       "3          560.86  \n",
       "4         3204.25  \n",
       "5          876.73  \n",
       "6        13705.06  \n",
       "7        12994.39  \n",
       "8         7212.53  "
      ]
     },
     "execution_count": 15,
     "metadata": {},
     "output_type": "execute_result"
    }
   ],
   "source": [
    "#TOTAL_EXPENSES column is based off columns S&B - CLIENT added together...\n",
    "dashboard[\"TOTAL_EXPENSES\"] = dashboard[\"S&B\"] + dashboard[\"NON_PERSONNEL\"] + dashboard[\"ADMINISTRATION\"] + dashboard[\"CLIENT\"]\n",
    "dashboard"
   ]
  },
  {
   "cell_type": "markdown",
   "metadata": {
    "id": "crude-norfolk"
   },
   "source": [
    "Add Annual Spending Projection Column"
   ]
  },
  {
   "cell_type": "code",
   "execution_count": 16,
   "metadata": {
    "id": "concerned-redhead"
   },
   "outputs": [
    {
     "name": "stdout",
     "output_type": "stream",
     "text": [
      "Enter ending date of transaction log: 09/30/2021\n"
     ]
    }
   ],
   "source": [
    "#User will enter the date of the last transaction from the transaction register \n",
    "end_date = pd.to_datetime(input(\"Enter ending date of transaction log: \")) #input ending data of transaction log\n",
    "end_program_year = pd.to_datetime('06/30/2022') #This is the ending date of the program year\n",
    "\n",
    "weeks_left = end_program_year - end_date #weeks left in program year\n",
    "remaining_weeks = weeks_left / np.timedelta64(1, \"W\") #convert timedelta to float\n",
    "\n",
    "weeks_down = 52-remaining_weeks #Weeks that have already happened"
   ]
  },
  {
   "cell_type": "code",
   "execution_count": 17,
   "metadata": {},
   "outputs": [],
   "source": [
    "#Takes average weekly spending and multiplys by 52 to get projection in for year. \n",
    "#An ANNUAL_PROJECTIONS column is created for projected annaul spending\n",
    "dashboard = dashboard.assign(ANNUAL_PROJECTIONS=lambda x:(dashboard[\"TOTAL_EXPENSES\"]/weeks_down)*52)"
   ]
  },
  {
   "cell_type": "code",
   "execution_count": 18,
   "metadata": {},
   "outputs": [
    {
     "data": {
      "text/html": [
       "<div>\n",
       "<style scoped>\n",
       "    .dataframe tbody tr th:only-of-type {\n",
       "        vertical-align: middle;\n",
       "    }\n",
       "\n",
       "    .dataframe tbody tr th {\n",
       "        vertical-align: top;\n",
       "    }\n",
       "\n",
       "    .dataframe thead th {\n",
       "        text-align: right;\n",
       "    }\n",
       "</style>\n",
       "<table border=\"1\" class=\"dataframe\">\n",
       "  <thead>\n",
       "    <tr style=\"text-align: right;\">\n",
       "      <th></th>\n",
       "      <th>DEPT</th>\n",
       "      <th>S&amp;B</th>\n",
       "      <th>NON_PERSONNEL</th>\n",
       "      <th>ADMINISTRATION</th>\n",
       "      <th>CLIENT</th>\n",
       "      <th>TOTAL_EXPENSES</th>\n",
       "      <th>ANNUAL_PROJECTIONS</th>\n",
       "    </tr>\n",
       "  </thead>\n",
       "  <tbody>\n",
       "    <tr>\n",
       "      <th>0</th>\n",
       "      <td>5657-100</td>\n",
       "      <td>197500.481350</td>\n",
       "      <td>17551.32</td>\n",
       "      <td>19672.39</td>\n",
       "      <td>130216.388650</td>\n",
       "      <td>364940.58</td>\n",
       "      <td>1459762.32</td>\n",
       "    </tr>\n",
       "    <tr>\n",
       "      <th>1</th>\n",
       "      <td>5657-200</td>\n",
       "      <td>78992.314375</td>\n",
       "      <td>4166.99</td>\n",
       "      <td>8375.55</td>\n",
       "      <td>2074.355625</td>\n",
       "      <td>93609.21</td>\n",
       "      <td>374436.84</td>\n",
       "    </tr>\n",
       "    <tr>\n",
       "      <th>2</th>\n",
       "      <td>5658-100</td>\n",
       "      <td>3076.177450</td>\n",
       "      <td>115.48</td>\n",
       "      <td>1179.40</td>\n",
       "      <td>9133.422550</td>\n",
       "      <td>13504.48</td>\n",
       "      <td>54017.92</td>\n",
       "    </tr>\n",
       "    <tr>\n",
       "      <th>3</th>\n",
       "      <td>5691-100</td>\n",
       "      <td>0.000000</td>\n",
       "      <td>560.86</td>\n",
       "      <td>0.00</td>\n",
       "      <td>0.000000</td>\n",
       "      <td>560.86</td>\n",
       "      <td>2243.44</td>\n",
       "    </tr>\n",
       "    <tr>\n",
       "      <th>4</th>\n",
       "      <td>5692-100</td>\n",
       "      <td>1491.032700</td>\n",
       "      <td>138.54</td>\n",
       "      <td>0.00</td>\n",
       "      <td>1574.677300</td>\n",
       "      <td>3204.25</td>\n",
       "      <td>12817.00</td>\n",
       "    </tr>\n",
       "    <tr>\n",
       "      <th>5</th>\n",
       "      <td>5692-200</td>\n",
       "      <td>437.201500</td>\n",
       "      <td>189.45</td>\n",
       "      <td>0.00</td>\n",
       "      <td>250.078500</td>\n",
       "      <td>876.73</td>\n",
       "      <td>3506.92</td>\n",
       "    </tr>\n",
       "    <tr>\n",
       "      <th>6</th>\n",
       "      <td>5692-500</td>\n",
       "      <td>3331.007250</td>\n",
       "      <td>2921.55</td>\n",
       "      <td>0.00</td>\n",
       "      <td>7452.502750</td>\n",
       "      <td>13705.06</td>\n",
       "      <td>54820.24</td>\n",
       "    </tr>\n",
       "    <tr>\n",
       "      <th>7</th>\n",
       "      <td>5711-200</td>\n",
       "      <td>11083.860000</td>\n",
       "      <td>212.84</td>\n",
       "      <td>1697.69</td>\n",
       "      <td>0.000000</td>\n",
       "      <td>12994.39</td>\n",
       "      <td>51977.56</td>\n",
       "    </tr>\n",
       "    <tr>\n",
       "      <th>8</th>\n",
       "      <td>5659-100</td>\n",
       "      <td>4685.640000</td>\n",
       "      <td>1871.20</td>\n",
       "      <td>655.69</td>\n",
       "      <td>0.000000</td>\n",
       "      <td>7212.53</td>\n",
       "      <td>28850.12</td>\n",
       "    </tr>\n",
       "  </tbody>\n",
       "</table>\n",
       "</div>"
      ],
      "text/plain": [
       "       DEPT            S&B  NON_PERSONNEL  ADMINISTRATION         CLIENT  \\\n",
       "0  5657-100  197500.481350       17551.32        19672.39  130216.388650   \n",
       "1  5657-200   78992.314375        4166.99         8375.55    2074.355625   \n",
       "2  5658-100    3076.177450         115.48         1179.40    9133.422550   \n",
       "3  5691-100       0.000000         560.86            0.00       0.000000   \n",
       "4  5692-100    1491.032700         138.54            0.00    1574.677300   \n",
       "5  5692-200     437.201500         189.45            0.00     250.078500   \n",
       "6  5692-500    3331.007250        2921.55            0.00    7452.502750   \n",
       "7  5711-200   11083.860000         212.84         1697.69       0.000000   \n",
       "8  5659-100    4685.640000        1871.20          655.69       0.000000   \n",
       "\n",
       "   TOTAL_EXPENSES  ANNUAL_PROJECTIONS  \n",
       "0       364940.58          1459762.32  \n",
       "1        93609.21           374436.84  \n",
       "2        13504.48            54017.92  \n",
       "3          560.86             2243.44  \n",
       "4         3204.25            12817.00  \n",
       "5          876.73             3506.92  \n",
       "6        13705.06            54820.24  \n",
       "7        12994.39            51977.56  \n",
       "8         7212.53            28850.12  "
      ]
     },
     "execution_count": 18,
     "metadata": {},
     "output_type": "execute_result"
    }
   ],
   "source": [
    "dashboard \n",
    "#Final report that shows total spending by Department in each general spending category.\n",
    "#The ANNUAL_PROJECTIONS column is the total spending estimated to take place throughout the year. "
   ]
  },
  {
   "cell_type": "code",
   "execution_count": null,
   "metadata": {},
   "outputs": [],
   "source": []
  }
 ],
 "metadata": {
  "colab": {
   "name": "Spending_Dashboard.ipynb",
   "provenance": []
  },
  "kernelspec": {
   "display_name": "Python 3",
   "language": "python",
   "name": "python3"
  },
  "language_info": {
   "codemirror_mode": {
    "name": "ipython",
    "version": 3
   },
   "file_extension": ".py",
   "mimetype": "text/x-python",
   "name": "python",
   "nbconvert_exporter": "python",
   "pygments_lexer": "ipython3",
   "version": "3.8.5"
  }
 },
 "nbformat": 4,
 "nbformat_minor": 5
}
